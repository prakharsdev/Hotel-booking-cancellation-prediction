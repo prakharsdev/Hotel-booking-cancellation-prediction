{
  "nbformat": 4,
  "nbformat_minor": 0,
  "metadata": {
    "colab": {
      "name": " Hotel_booking_cancellation_prediction_Task.ipynb",
      "provenance": [],
      "collapsed_sections": []
    },
    "kernelspec": {
      "name": "python3",
      "display_name": "Python 3"
    },
    "language_info": {
      "name": "python"
    },
    "accelerator": "GPU"
  },
  "cells": [
    {
      "cell_type": "markdown",
      "source": [
        "# Hotel booking cancellation prediction"
      ],
      "metadata": {
        "id": "tEZbn-ttnmhh"
      }
    },
    {
      "cell_type": "markdown",
      "source": [
        "Can we predict cancellation before it actually happens?\n",
        "\n",
        "For that, I will be leveraging the guest data and booking patterns to devise a strategy that will be helpful for Hotel Revenue management using Data Science and Machine learning.\n",
        "\n",
        "If the hotel staff is able to predict cancellation so what all they can do?\n",
        "\n",
        "Options:\n",
        "\n",
        "1. If the customer is not fairly engaged with the booking then they can retain the customer by giving discounts or increasing the time the customer can cancel the booking without paying any upfront charges.\n",
        "2. Anything that entices the customer not to go away to the competitor.\n",
        "3. If customer booking is fairly engaged and there is very less chance that (s)he will cancel the booking then the hotel staff don't have to infer more cost by giving discounts etc.\n",
        "\n",
        "Simple note: I am giving them the way to cherry-pick. So out of all the bookings out there use my model to cherry-pick to call up the customers."
      ],
      "metadata": {
        "id": "fVCtSb4ASbB4"
      }
    },
    {
      "cell_type": "markdown",
      "source": [
        "## Which features or feature combinations hint that the booking is likely to be cancelled? Building a classifier and/or correlation analysis might help us with this.\n",
        "\n",
        "I have tried to explain the features and later their combination to predict the likelihood of cancellation"
      ],
      "metadata": {
        "id": "CEyTtM5_dY1g"
      }
    },
    {
      "cell_type": "markdown",
      "source": [
        "# Importing all the required libraries"
      ],
      "metadata": {
        "id": "aQxBuUCefdS7"
      }
    },
    {
      "cell_type": "code",
      "source": [
        "import pandas as pd\n",
        "import numpy as np\n",
        "from sklearn import preprocessing\n",
        "import matplotlib.pyplot as plt\n",
        "plt.rc(\"font\", size = 14)\n",
        "from sklearn.linear_model import LogisticRegression\n",
        "from sklearn.ensemble import RandomForestClassifier\n",
        "from sklearn.model_selection import train_test_split\n",
        "import seaborn as sns\n",
        "sns.set(style=\"white\")\n",
        "sns.set(style=\"white\", color_codes=True)"
      ],
      "metadata": {
        "id": "XlJ4VcTzm6za"
      },
      "execution_count": 198,
      "outputs": []
    },
    {
      "cell_type": "markdown",
      "source": [
        "In the  data, there are two kinds of Hotel:\n",
        "1. Resort hotel\n",
        "2. City Hotel"
      ],
      "metadata": {
        "id": "zEzlRZeKjZlq"
      }
    },
    {
      "cell_type": "code",
      "source": [
        "df = pd.read_csv(\"hotel_booking.csv\")\n",
        "#df.shape\n",
        "df.head(100000)"
      ],
      "metadata": {
        "colab": {
          "base_uri": "https://localhost:8080/",
          "height": 852
        },
        "id": "DCIRMJumoOYp",
        "outputId": "e7de444f-8d71-4dfc-d4a7-d71149d64682"
      },
      "execution_count": 199,
      "outputs": [
        {
          "output_type": "execute_result",
          "data": {
            "text/plain": [
              "              hotel  is_canceled  lead_time  arrival_date_year  \\\n",
              "0      Resort Hotel            0        342               2015   \n",
              "1      Resort Hotel            0        737               2015   \n",
              "2      Resort Hotel            0          7               2015   \n",
              "3      Resort Hotel            0         13               2015   \n",
              "4      Resort Hotel            0         14               2015   \n",
              "...             ...          ...        ...                ...   \n",
              "99995    City Hotel            0        184               2016   \n",
              "99996    City Hotel            0         59               2016   \n",
              "99997    City Hotel            0        256               2016   \n",
              "99998    City Hotel            0        256               2016   \n",
              "99999    City Hotel            0        256               2016   \n",
              "\n",
              "      arrival_date_month  arrival_date_week_number  arrival_date_day_of_month  \\\n",
              "0                   July                        27                          1   \n",
              "1                   July                        27                          1   \n",
              "2                   July                        27                          1   \n",
              "3                   July                        27                          1   \n",
              "4                   July                        27                          1   \n",
              "...                  ...                       ...                        ...   \n",
              "99995            October                        43                         17   \n",
              "99996            October                        43                         17   \n",
              "99997            October                        43                         16   \n",
              "99998            October                        43                         16   \n",
              "99999            October                        43                         16   \n",
              "\n",
              "       stays_in_weekend_nights  stays_in_week_nights  adults  ...  \\\n",
              "0                            0                     0       2  ...   \n",
              "1                            0                     0       2  ...   \n",
              "2                            0                     1       1  ...   \n",
              "3                            0                     1       1  ...   \n",
              "4                            0                     2       2  ...   \n",
              "...                        ...                   ...     ...  ...   \n",
              "99995                        1                     3       2  ...   \n",
              "99996                        1                     3       1  ...   \n",
              "99997                        2                     3       2  ...   \n",
              "99998                        2                     3       2  ...   \n",
              "99999                        2                     3       2  ...   \n",
              "\n",
              "         customer_type     adr required_car_parking_spaces  \\\n",
              "0            Transient    0.00                           0   \n",
              "1            Transient    0.00                           0   \n",
              "2            Transient   75.00                           0   \n",
              "3            Transient   75.00                           0   \n",
              "4            Transient   98.00                           0   \n",
              "...                ...     ...                         ...   \n",
              "99995        Transient  128.70                           0   \n",
              "99996        Transient  117.00                           0   \n",
              "99997  Transient-Party  100.75                           0   \n",
              "99998  Transient-Party  100.75                           0   \n",
              "99999  Transient-Party  100.75                           0   \n",
              "\n",
              "      total_of_special_requests reservation_status reservation_status_date  \\\n",
              "0                             0          Check-Out              2015-07-01   \n",
              "1                             0          Check-Out              2015-07-01   \n",
              "2                             0          Check-Out              2015-07-02   \n",
              "3                             0          Check-Out              2015-07-02   \n",
              "4                             1          Check-Out              2015-07-03   \n",
              "...                         ...                ...                     ...   \n",
              "99995                         2          Check-Out              2016-10-21   \n",
              "99996                         2          Check-Out              2016-10-21   \n",
              "99997                         0          Check-Out              2016-10-21   \n",
              "99998                         0          Check-Out              2016-10-21   \n",
              "99999                         0          Check-Out              2016-10-21   \n",
              "\n",
              "                   name                        email  phone-number  \\\n",
              "0         Ernest Barnes  Ernest.Barnes31@outlook.com  669-792-1661   \n",
              "1          Andrea Baker       Andrea_Baker94@aol.com  858-637-6955   \n",
              "2        Rebecca Parker   Rebecca_Parker@comcast.net  652-885-2745   \n",
              "3          Laura Murray            Laura_M@gmail.com  364-656-8427   \n",
              "4           Linda Hines           LHines@verizon.com  713-226-5883   \n",
              "...                 ...                          ...           ...   \n",
              "99995     Amanda Bowman          Amanda.B@yandex.com  488-121-7719   \n",
              "99996       Alyssa Hill            AHill@comcast.net  739-281-1490   \n",
              "99997    Heather Miller            HMiller32@aol.com  760-394-6171   \n",
              "99998  Jonathan Oconnor           Jonathan_O@aol.com  474-003-4234   \n",
              "99999    Leslie Delgado         Leslie.D@xfinity.com  676-454-5826   \n",
              "\n",
              "            credit_card  \n",
              "0      ************4322  \n",
              "1      ************9157  \n",
              "2      ************3734  \n",
              "3      ************5677  \n",
              "4      ************5498  \n",
              "...                 ...  \n",
              "99995  ************8474  \n",
              "99996  ************1551  \n",
              "99997  ************4990  \n",
              "99998  ************4606  \n",
              "99999  ************4847  \n",
              "\n",
              "[100000 rows x 36 columns]"
            ],
            "text/html": [
              "\n",
              "  <div id=\"df-b153c114-801b-479d-807f-384729d99438\">\n",
              "    <div class=\"colab-df-container\">\n",
              "      <div>\n",
              "<style scoped>\n",
              "    .dataframe tbody tr th:only-of-type {\n",
              "        vertical-align: middle;\n",
              "    }\n",
              "\n",
              "    .dataframe tbody tr th {\n",
              "        vertical-align: top;\n",
              "    }\n",
              "\n",
              "    .dataframe thead th {\n",
              "        text-align: right;\n",
              "    }\n",
              "</style>\n",
              "<table border=\"1\" class=\"dataframe\">\n",
              "  <thead>\n",
              "    <tr style=\"text-align: right;\">\n",
              "      <th></th>\n",
              "      <th>hotel</th>\n",
              "      <th>is_canceled</th>\n",
              "      <th>lead_time</th>\n",
              "      <th>arrival_date_year</th>\n",
              "      <th>arrival_date_month</th>\n",
              "      <th>arrival_date_week_number</th>\n",
              "      <th>arrival_date_day_of_month</th>\n",
              "      <th>stays_in_weekend_nights</th>\n",
              "      <th>stays_in_week_nights</th>\n",
              "      <th>adults</th>\n",
              "      <th>...</th>\n",
              "      <th>customer_type</th>\n",
              "      <th>adr</th>\n",
              "      <th>required_car_parking_spaces</th>\n",
              "      <th>total_of_special_requests</th>\n",
              "      <th>reservation_status</th>\n",
              "      <th>reservation_status_date</th>\n",
              "      <th>name</th>\n",
              "      <th>email</th>\n",
              "      <th>phone-number</th>\n",
              "      <th>credit_card</th>\n",
              "    </tr>\n",
              "  </thead>\n",
              "  <tbody>\n",
              "    <tr>\n",
              "      <th>0</th>\n",
              "      <td>Resort Hotel</td>\n",
              "      <td>0</td>\n",
              "      <td>342</td>\n",
              "      <td>2015</td>\n",
              "      <td>July</td>\n",
              "      <td>27</td>\n",
              "      <td>1</td>\n",
              "      <td>0</td>\n",
              "      <td>0</td>\n",
              "      <td>2</td>\n",
              "      <td>...</td>\n",
              "      <td>Transient</td>\n",
              "      <td>0.00</td>\n",
              "      <td>0</td>\n",
              "      <td>0</td>\n",
              "      <td>Check-Out</td>\n",
              "      <td>2015-07-01</td>\n",
              "      <td>Ernest Barnes</td>\n",
              "      <td>Ernest.Barnes31@outlook.com</td>\n",
              "      <td>669-792-1661</td>\n",
              "      <td>************4322</td>\n",
              "    </tr>\n",
              "    <tr>\n",
              "      <th>1</th>\n",
              "      <td>Resort Hotel</td>\n",
              "      <td>0</td>\n",
              "      <td>737</td>\n",
              "      <td>2015</td>\n",
              "      <td>July</td>\n",
              "      <td>27</td>\n",
              "      <td>1</td>\n",
              "      <td>0</td>\n",
              "      <td>0</td>\n",
              "      <td>2</td>\n",
              "      <td>...</td>\n",
              "      <td>Transient</td>\n",
              "      <td>0.00</td>\n",
              "      <td>0</td>\n",
              "      <td>0</td>\n",
              "      <td>Check-Out</td>\n",
              "      <td>2015-07-01</td>\n",
              "      <td>Andrea Baker</td>\n",
              "      <td>Andrea_Baker94@aol.com</td>\n",
              "      <td>858-637-6955</td>\n",
              "      <td>************9157</td>\n",
              "    </tr>\n",
              "    <tr>\n",
              "      <th>2</th>\n",
              "      <td>Resort Hotel</td>\n",
              "      <td>0</td>\n",
              "      <td>7</td>\n",
              "      <td>2015</td>\n",
              "      <td>July</td>\n",
              "      <td>27</td>\n",
              "      <td>1</td>\n",
              "      <td>0</td>\n",
              "      <td>1</td>\n",
              "      <td>1</td>\n",
              "      <td>...</td>\n",
              "      <td>Transient</td>\n",
              "      <td>75.00</td>\n",
              "      <td>0</td>\n",
              "      <td>0</td>\n",
              "      <td>Check-Out</td>\n",
              "      <td>2015-07-02</td>\n",
              "      <td>Rebecca Parker</td>\n",
              "      <td>Rebecca_Parker@comcast.net</td>\n",
              "      <td>652-885-2745</td>\n",
              "      <td>************3734</td>\n",
              "    </tr>\n",
              "    <tr>\n",
              "      <th>3</th>\n",
              "      <td>Resort Hotel</td>\n",
              "      <td>0</td>\n",
              "      <td>13</td>\n",
              "      <td>2015</td>\n",
              "      <td>July</td>\n",
              "      <td>27</td>\n",
              "      <td>1</td>\n",
              "      <td>0</td>\n",
              "      <td>1</td>\n",
              "      <td>1</td>\n",
              "      <td>...</td>\n",
              "      <td>Transient</td>\n",
              "      <td>75.00</td>\n",
              "      <td>0</td>\n",
              "      <td>0</td>\n",
              "      <td>Check-Out</td>\n",
              "      <td>2015-07-02</td>\n",
              "      <td>Laura Murray</td>\n",
              "      <td>Laura_M@gmail.com</td>\n",
              "      <td>364-656-8427</td>\n",
              "      <td>************5677</td>\n",
              "    </tr>\n",
              "    <tr>\n",
              "      <th>4</th>\n",
              "      <td>Resort Hotel</td>\n",
              "      <td>0</td>\n",
              "      <td>14</td>\n",
              "      <td>2015</td>\n",
              "      <td>July</td>\n",
              "      <td>27</td>\n",
              "      <td>1</td>\n",
              "      <td>0</td>\n",
              "      <td>2</td>\n",
              "      <td>2</td>\n",
              "      <td>...</td>\n",
              "      <td>Transient</td>\n",
              "      <td>98.00</td>\n",
              "      <td>0</td>\n",
              "      <td>1</td>\n",
              "      <td>Check-Out</td>\n",
              "      <td>2015-07-03</td>\n",
              "      <td>Linda Hines</td>\n",
              "      <td>LHines@verizon.com</td>\n",
              "      <td>713-226-5883</td>\n",
              "      <td>************5498</td>\n",
              "    </tr>\n",
              "    <tr>\n",
              "      <th>...</th>\n",
              "      <td>...</td>\n",
              "      <td>...</td>\n",
              "      <td>...</td>\n",
              "      <td>...</td>\n",
              "      <td>...</td>\n",
              "      <td>...</td>\n",
              "      <td>...</td>\n",
              "      <td>...</td>\n",
              "      <td>...</td>\n",
              "      <td>...</td>\n",
              "      <td>...</td>\n",
              "      <td>...</td>\n",
              "      <td>...</td>\n",
              "      <td>...</td>\n",
              "      <td>...</td>\n",
              "      <td>...</td>\n",
              "      <td>...</td>\n",
              "      <td>...</td>\n",
              "      <td>...</td>\n",
              "      <td>...</td>\n",
              "      <td>...</td>\n",
              "    </tr>\n",
              "    <tr>\n",
              "      <th>99995</th>\n",
              "      <td>City Hotel</td>\n",
              "      <td>0</td>\n",
              "      <td>184</td>\n",
              "      <td>2016</td>\n",
              "      <td>October</td>\n",
              "      <td>43</td>\n",
              "      <td>17</td>\n",
              "      <td>1</td>\n",
              "      <td>3</td>\n",
              "      <td>2</td>\n",
              "      <td>...</td>\n",
              "      <td>Transient</td>\n",
              "      <td>128.70</td>\n",
              "      <td>0</td>\n",
              "      <td>2</td>\n",
              "      <td>Check-Out</td>\n",
              "      <td>2016-10-21</td>\n",
              "      <td>Amanda Bowman</td>\n",
              "      <td>Amanda.B@yandex.com</td>\n",
              "      <td>488-121-7719</td>\n",
              "      <td>************8474</td>\n",
              "    </tr>\n",
              "    <tr>\n",
              "      <th>99996</th>\n",
              "      <td>City Hotel</td>\n",
              "      <td>0</td>\n",
              "      <td>59</td>\n",
              "      <td>2016</td>\n",
              "      <td>October</td>\n",
              "      <td>43</td>\n",
              "      <td>17</td>\n",
              "      <td>1</td>\n",
              "      <td>3</td>\n",
              "      <td>1</td>\n",
              "      <td>...</td>\n",
              "      <td>Transient</td>\n",
              "      <td>117.00</td>\n",
              "      <td>0</td>\n",
              "      <td>2</td>\n",
              "      <td>Check-Out</td>\n",
              "      <td>2016-10-21</td>\n",
              "      <td>Alyssa Hill</td>\n",
              "      <td>AHill@comcast.net</td>\n",
              "      <td>739-281-1490</td>\n",
              "      <td>************1551</td>\n",
              "    </tr>\n",
              "    <tr>\n",
              "      <th>99997</th>\n",
              "      <td>City Hotel</td>\n",
              "      <td>0</td>\n",
              "      <td>256</td>\n",
              "      <td>2016</td>\n",
              "      <td>October</td>\n",
              "      <td>43</td>\n",
              "      <td>16</td>\n",
              "      <td>2</td>\n",
              "      <td>3</td>\n",
              "      <td>2</td>\n",
              "      <td>...</td>\n",
              "      <td>Transient-Party</td>\n",
              "      <td>100.75</td>\n",
              "      <td>0</td>\n",
              "      <td>0</td>\n",
              "      <td>Check-Out</td>\n",
              "      <td>2016-10-21</td>\n",
              "      <td>Heather Miller</td>\n",
              "      <td>HMiller32@aol.com</td>\n",
              "      <td>760-394-6171</td>\n",
              "      <td>************4990</td>\n",
              "    </tr>\n",
              "    <tr>\n",
              "      <th>99998</th>\n",
              "      <td>City Hotel</td>\n",
              "      <td>0</td>\n",
              "      <td>256</td>\n",
              "      <td>2016</td>\n",
              "      <td>October</td>\n",
              "      <td>43</td>\n",
              "      <td>16</td>\n",
              "      <td>2</td>\n",
              "      <td>3</td>\n",
              "      <td>2</td>\n",
              "      <td>...</td>\n",
              "      <td>Transient-Party</td>\n",
              "      <td>100.75</td>\n",
              "      <td>0</td>\n",
              "      <td>0</td>\n",
              "      <td>Check-Out</td>\n",
              "      <td>2016-10-21</td>\n",
              "      <td>Jonathan Oconnor</td>\n",
              "      <td>Jonathan_O@aol.com</td>\n",
              "      <td>474-003-4234</td>\n",
              "      <td>************4606</td>\n",
              "    </tr>\n",
              "    <tr>\n",
              "      <th>99999</th>\n",
              "      <td>City Hotel</td>\n",
              "      <td>0</td>\n",
              "      <td>256</td>\n",
              "      <td>2016</td>\n",
              "      <td>October</td>\n",
              "      <td>43</td>\n",
              "      <td>16</td>\n",
              "      <td>2</td>\n",
              "      <td>3</td>\n",
              "      <td>2</td>\n",
              "      <td>...</td>\n",
              "      <td>Transient-Party</td>\n",
              "      <td>100.75</td>\n",
              "      <td>0</td>\n",
              "      <td>0</td>\n",
              "      <td>Check-Out</td>\n",
              "      <td>2016-10-21</td>\n",
              "      <td>Leslie Delgado</td>\n",
              "      <td>Leslie.D@xfinity.com</td>\n",
              "      <td>676-454-5826</td>\n",
              "      <td>************4847</td>\n",
              "    </tr>\n",
              "  </tbody>\n",
              "</table>\n",
              "<p>100000 rows × 36 columns</p>\n",
              "</div>\n",
              "      <button class=\"colab-df-convert\" onclick=\"convertToInteractive('df-b153c114-801b-479d-807f-384729d99438')\"\n",
              "              title=\"Convert this dataframe to an interactive table.\"\n",
              "              style=\"display:none;\">\n",
              "        \n",
              "  <svg xmlns=\"http://www.w3.org/2000/svg\" height=\"24px\"viewBox=\"0 0 24 24\"\n",
              "       width=\"24px\">\n",
              "    <path d=\"M0 0h24v24H0V0z\" fill=\"none\"/>\n",
              "    <path d=\"M18.56 5.44l.94 2.06.94-2.06 2.06-.94-2.06-.94-.94-2.06-.94 2.06-2.06.94zm-11 1L8.5 8.5l.94-2.06 2.06-.94-2.06-.94L8.5 2.5l-.94 2.06-2.06.94zm10 10l.94 2.06.94-2.06 2.06-.94-2.06-.94-.94-2.06-.94 2.06-2.06.94z\"/><path d=\"M17.41 7.96l-1.37-1.37c-.4-.4-.92-.59-1.43-.59-.52 0-1.04.2-1.43.59L10.3 9.45l-7.72 7.72c-.78.78-.78 2.05 0 2.83L4 21.41c.39.39.9.59 1.41.59.51 0 1.02-.2 1.41-.59l7.78-7.78 2.81-2.81c.8-.78.8-2.07 0-2.86zM5.41 20L4 18.59l7.72-7.72 1.47 1.35L5.41 20z\"/>\n",
              "  </svg>\n",
              "      </button>\n",
              "      \n",
              "  <style>\n",
              "    .colab-df-container {\n",
              "      display:flex;\n",
              "      flex-wrap:wrap;\n",
              "      gap: 12px;\n",
              "    }\n",
              "\n",
              "    .colab-df-convert {\n",
              "      background-color: #E8F0FE;\n",
              "      border: none;\n",
              "      border-radius: 50%;\n",
              "      cursor: pointer;\n",
              "      display: none;\n",
              "      fill: #1967D2;\n",
              "      height: 32px;\n",
              "      padding: 0 0 0 0;\n",
              "      width: 32px;\n",
              "    }\n",
              "\n",
              "    .colab-df-convert:hover {\n",
              "      background-color: #E2EBFA;\n",
              "      box-shadow: 0px 1px 2px rgba(60, 64, 67, 0.3), 0px 1px 3px 1px rgba(60, 64, 67, 0.15);\n",
              "      fill: #174EA6;\n",
              "    }\n",
              "\n",
              "    [theme=dark] .colab-df-convert {\n",
              "      background-color: #3B4455;\n",
              "      fill: #D2E3FC;\n",
              "    }\n",
              "\n",
              "    [theme=dark] .colab-df-convert:hover {\n",
              "      background-color: #434B5C;\n",
              "      box-shadow: 0px 1px 3px 1px rgba(0, 0, 0, 0.15);\n",
              "      filter: drop-shadow(0px 1px 2px rgba(0, 0, 0, 0.3));\n",
              "      fill: #FFFFFF;\n",
              "    }\n",
              "  </style>\n",
              "\n",
              "      <script>\n",
              "        const buttonEl =\n",
              "          document.querySelector('#df-b153c114-801b-479d-807f-384729d99438 button.colab-df-convert');\n",
              "        buttonEl.style.display =\n",
              "          google.colab.kernel.accessAllowed ? 'block' : 'none';\n",
              "\n",
              "        async function convertToInteractive(key) {\n",
              "          const element = document.querySelector('#df-b153c114-801b-479d-807f-384729d99438');\n",
              "          const dataTable =\n",
              "            await google.colab.kernel.invokeFunction('convertToInteractive',\n",
              "                                                     [key], {});\n",
              "          if (!dataTable) return;\n",
              "\n",
              "          const docLinkHtml = 'Like what you see? Visit the ' +\n",
              "            '<a target=\"_blank\" href=https://colab.research.google.com/notebooks/data_table.ipynb>data table notebook</a>'\n",
              "            + ' to learn more about interactive tables.';\n",
              "          element.innerHTML = '';\n",
              "          dataTable['output_type'] = 'display_data';\n",
              "          await google.colab.output.renderOutput(dataTable, element);\n",
              "          const docLink = document.createElement('div');\n",
              "          docLink.innerHTML = docLinkHtml;\n",
              "          element.appendChild(docLink);\n",
              "        }\n",
              "      </script>\n",
              "    </div>\n",
              "  </div>\n",
              "  "
            ]
          },
          "metadata": {},
          "execution_count": 199
        }
      ]
    },
    {
      "cell_type": "markdown",
      "source": [
        "## Character variables in the data"
      ],
      "metadata": {
        "id": "9_bIAFsJjihP"
      }
    },
    {
      "cell_type": "code",
      "source": [
        "df.dtypes"
      ],
      "metadata": {
        "colab": {
          "base_uri": "https://localhost:8080/"
        },
        "id": "a7vmb-b-oZju",
        "outputId": "d6f92fc3-31d4-4119-f9ba-8b824f188650"
      },
      "execution_count": 200,
      "outputs": [
        {
          "output_type": "execute_result",
          "data": {
            "text/plain": [
              "hotel                              object\n",
              "is_canceled                         int64\n",
              "lead_time                           int64\n",
              "arrival_date_year                   int64\n",
              "arrival_date_month                 object\n",
              "arrival_date_week_number            int64\n",
              "arrival_date_day_of_month           int64\n",
              "stays_in_weekend_nights             int64\n",
              "stays_in_week_nights                int64\n",
              "adults                              int64\n",
              "children                          float64\n",
              "babies                              int64\n",
              "meal                               object\n",
              "country                            object\n",
              "market_segment                     object\n",
              "distribution_channel               object\n",
              "is_repeated_guest                   int64\n",
              "previous_cancellations              int64\n",
              "previous_bookings_not_canceled      int64\n",
              "reserved_room_type                 object\n",
              "assigned_room_type                 object\n",
              "booking_changes                     int64\n",
              "deposit_type                       object\n",
              "agent                             float64\n",
              "company                           float64\n",
              "days_in_waiting_list                int64\n",
              "customer_type                      object\n",
              "adr                               float64\n",
              "required_car_parking_spaces         int64\n",
              "total_of_special_requests           int64\n",
              "reservation_status                 object\n",
              "reservation_status_date            object\n",
              "name                               object\n",
              "email                              object\n",
              "phone-number                       object\n",
              "credit_card                        object\n",
              "dtype: object"
            ]
          },
          "metadata": {},
          "execution_count": 200
        }
      ]
    },
    {
      "cell_type": "markdown",
      "source": [
        "## Below 119390 are the bookings and 36 are the feature columns"
      ],
      "metadata": {
        "id": "OlnIG0EDnAI_"
      }
    },
    {
      "cell_type": "code",
      "source": [
        "df.shape"
      ],
      "metadata": {
        "colab": {
          "base_uri": "https://localhost:8080/"
        },
        "id": "fzhj2DhisT6i",
        "outputId": "dbac3000-2c44-422f-cd56-440cde758395"
      },
      "execution_count": 201,
      "outputs": [
        {
          "output_type": "execute_result",
          "data": {
            "text/plain": [
              "(119390, 36)"
            ]
          },
          "metadata": {},
          "execution_count": 201
        }
      ]
    },
    {
      "cell_type": "markdown",
      "source": [
        "## We can see the number of cancelled bookings.\n",
        "\n",
        "0 represents --> Not cancelled booking\n",
        "\n",
        "1 represents --> Cancelled booking\n",
        "\n",
        "As you can see the imbalance in the cancelled booking vs not cancelled booking values. But there won't be a problem as it is very heavily loaded on the event side"
      ],
      "metadata": {
        "id": "8C44u2wLlqYw"
      }
    },
    {
      "cell_type": "code",
      "source": [
        "df['is_canceled'].value_counts()"
      ],
      "metadata": {
        "colab": {
          "base_uri": "https://localhost:8080/"
        },
        "id": "Tfim8hpDrBtF",
        "outputId": "739a92f6-b305-4e56-db7a-e1e42aeb19f2"
      },
      "execution_count": 202,
      "outputs": [
        {
          "output_type": "execute_result",
          "data": {
            "text/plain": [
              "0    75166\n",
              "1    44224\n",
              "Name: is_canceled, dtype: int64"
            ]
          },
          "metadata": {},
          "execution_count": 202
        }
      ]
    },
    {
      "cell_type": "code",
      "source": [
        "df['hotel'].value_counts()"
      ],
      "metadata": {
        "colab": {
          "base_uri": "https://localhost:8080/"
        },
        "id": "T5_AQpSLmSC-",
        "outputId": "c0aaaaf7-cc8d-445d-85ab-7389669d2f4b"
      },
      "execution_count": 203,
      "outputs": [
        {
          "output_type": "execute_result",
          "data": {
            "text/plain": [
              "City Hotel      79330\n",
              "Resort Hotel    40060\n",
              "Name: hotel, dtype: int64"
            ]
          },
          "metadata": {},
          "execution_count": 203
        }
      ]
    },
    {
      "cell_type": "markdown",
      "source": [
        "Below I calculated the cancellation rate"
      ],
      "metadata": {
        "id": "2Z8dTEjPpqZv"
      }
    },
    {
      "cell_type": "code",
      "source": [
        "df['is_canceled'].mean()"
      ],
      "metadata": {
        "colab": {
          "base_uri": "https://localhost:8080/"
        },
        "id": "NOMkkl7UE3hK",
        "outputId": "16558d18-7c15-4563-ffea-adb946bba326"
      },
      "execution_count": 204,
      "outputs": [
        {
          "output_type": "execute_result",
          "data": {
            "text/plain": [
              "0.37041628277075134"
            ]
          },
          "metadata": {},
          "execution_count": 204
        }
      ]
    },
    {
      "cell_type": "code",
      "source": [
        "df['lead_time']"
      ],
      "metadata": {
        "colab": {
          "base_uri": "https://localhost:8080/"
        },
        "id": "o7qac6b_GD0x",
        "outputId": "4a5821ac-5380-4b88-e98f-e04c74f41ae2"
      },
      "execution_count": 205,
      "outputs": [
        {
          "output_type": "execute_result",
          "data": {
            "text/plain": [
              "0         342\n",
              "1         737\n",
              "2           7\n",
              "3          13\n",
              "4          14\n",
              "         ... \n",
              "119385     23\n",
              "119386    102\n",
              "119387     34\n",
              "119388    109\n",
              "119389    205\n",
              "Name: lead_time, Length: 119390, dtype: int64"
            ]
          },
          "metadata": {},
          "execution_count": 205
        }
      ]
    },
    {
      "cell_type": "code",
      "source": [
        "df['hotel'].value_counts()"
      ],
      "metadata": {
        "colab": {
          "base_uri": "https://localhost:8080/"
        },
        "id": "t9OQukiGsIDE",
        "outputId": "4a2a8823-3d0c-4acc-eaf5-43f4d200faae"
      },
      "execution_count": 206,
      "outputs": [
        {
          "output_type": "execute_result",
          "data": {
            "text/plain": [
              "City Hotel      79330\n",
              "Resort Hotel    40060\n",
              "Name: hotel, dtype: int64"
            ]
          },
          "metadata": {},
          "execution_count": 206
        }
      ]
    },
    {
      "cell_type": "code",
      "source": [
        "sns.countplot(x='hotel', data=df)\n",
        "plt.show()"
      ],
      "metadata": {
        "colab": {
          "base_uri": "https://localhost:8080/",
          "height": 285
        },
        "id": "Tkht4VxPsEJs",
        "outputId": "93a4b86b-b4f2-41ae-d68f-38b723ea8d09"
      },
      "execution_count": 207,
      "outputs": [
        {
          "output_type": "display_data",
          "data": {
            "text/plain": [
              "<Figure size 432x288 with 1 Axes>"
            ],
            "image/png": "[encoded data removed]"
          },
          "metadata": {}
        }
      ]
    },
    {
      "cell_type": "markdown",
      "source": [
        "## Lets check the missing values"
      ],
      "metadata": {
        "id": "0bOsWhndp_gY"
      }
    },
    {
      "cell_type": "code",
      "source": [
        "df.isnull().sum()"
      ],
      "metadata": {
        "colab": {
          "base_uri": "https://localhost:8080/"
        },
        "id": "1bZDg-36s0Xe",
        "outputId": "fa378895-ebcd-4839-92bf-0ad11d0ff86c"
      },
      "execution_count": 208,
      "outputs": [
        {
          "output_type": "execute_result",
          "data": {
            "text/plain": [
              "hotel                                  0\n",
              "is_canceled                            0\n",
              "lead_time                              0\n",
              "arrival_date_year                      0\n",
              "arrival_date_month                     0\n",
              "arrival_date_week_number               0\n",
              "arrival_date_day_of_month              0\n",
              "stays_in_weekend_nights                0\n",
              "stays_in_week_nights                   0\n",
              "adults                                 0\n",
              "children                               4\n",
              "babies                                 0\n",
              "meal                                   0\n",
              "country                              488\n",
              "market_segment                         0\n",
              "distribution_channel                   0\n",
              "is_repeated_guest                      0\n",
              "previous_cancellations                 0\n",
              "previous_bookings_not_canceled         0\n",
              "reserved_room_type                     0\n",
              "assigned_room_type                     0\n",
              "booking_changes                        0\n",
              "deposit_type                           0\n",
              "agent                              16340\n",
              "company                           112593\n",
              "days_in_waiting_list                   0\n",
              "customer_type                          0\n",
              "adr                                    0\n",
              "required_car_parking_spaces            0\n",
              "total_of_special_requests              0\n",
              "reservation_status                     0\n",
              "reservation_status_date                0\n",
              "name                                   0\n",
              "email                                  0\n",
              "phone-number                           0\n",
              "credit_card                            0\n",
              "dtype: int64"
            ]
          },
          "metadata": {},
          "execution_count": 208
        }
      ]
    },
    {
      "cell_type": "code",
      "source": [
        "nan_replacements = {\"children\": 0, \"country\": \"Unknown\", \"agent\": 0, \"company\": 0}\n",
        "\n",
        "df = df.fillna(nan_replacements)\n",
        "\n",
        "df[\"meal\"].replace(\"Undefined\", \"SC\", inplace= True)"
      ],
      "metadata": {
        "id": "5jOpnR5q0MDL"
      },
      "execution_count": 209,
      "outputs": []
    },
    {
      "cell_type": "code",
      "source": [
        "df.isnull().sum()"
      ],
      "metadata": {
        "colab": {
          "base_uri": "https://localhost:8080/"
        },
        "id": "-URQXkOQ00Au",
        "outputId": "d16b8b6a-3a07-48a6-b83c-6ed08b215c04"
      },
      "execution_count": 210,
      "outputs": [
        {
          "output_type": "execute_result",
          "data": {
            "text/plain": [
              "hotel                             0\n",
              "is_canceled                       0\n",
              "lead_time                         0\n",
              "arrival_date_year                 0\n",
              "arrival_date_month                0\n",
              "arrival_date_week_number          0\n",
              "arrival_date_day_of_month         0\n",
              "stays_in_weekend_nights           0\n",
              "stays_in_week_nights              0\n",
              "adults                            0\n",
              "children                          0\n",
              "babies                            0\n",
              "meal                              0\n",
              "country                           0\n",
              "market_segment                    0\n",
              "distribution_channel              0\n",
              "is_repeated_guest                 0\n",
              "previous_cancellations            0\n",
              "previous_bookings_not_canceled    0\n",
              "reserved_room_type                0\n",
              "assigned_room_type                0\n",
              "booking_changes                   0\n",
              "deposit_type                      0\n",
              "agent                             0\n",
              "company                           0\n",
              "days_in_waiting_list              0\n",
              "customer_type                     0\n",
              "adr                               0\n",
              "required_car_parking_spaces       0\n",
              "total_of_special_requests         0\n",
              "reservation_status                0\n",
              "reservation_status_date           0\n",
              "name                              0\n",
              "email                             0\n",
              "phone-number                      0\n",
              "credit_card                       0\n",
              "dtype: int64"
            ]
          },
          "metadata": {},
          "execution_count": 210
        }
      ]
    },
    {
      "cell_type": "markdown",
      "source": [
        "Hotel- It doesn't matter which type of hotel they make a reservation, the main objective is to see if they make any type of reservation at all or not an agent - The agent that got the reservation for us won't matter company - Same logic goes for the company as for the agent reservation_status_date - We have other features(like: arrival_date_week_number, arrival_date_day_of_month etc) that give us the same information"
      ],
      "metadata": {
        "id": "ojOdHocRxTBN"
      }
    },
    {
      "cell_type": "code",
      "source": [
        "from numpy import mean\n",
        "ax = sns.barplot(x=\"meal\", y=\"is_canceled\", data=df, estimator=mean)"
      ],
      "metadata": {
        "colab": {
          "base_uri": "https://localhost:8080/",
          "height": 285
        },
        "id": "OHQf-dTs1ZpQ",
        "outputId": "4f3eabc0-af18-44ec-a33a-88be6201e673"
      },
      "execution_count": 211,
      "outputs": [
        {
          "output_type": "display_data",
          "data": {
            "text/plain": [
              "<Figure size 432x288 with 1 Axes>"
            ],
            "image/png": "[encoded data removed]"
          },
          "metadata": {}
        }
      ]
    },
    {
      "cell_type": "markdown",
      "source": [
        "## Why I dropped 'country' variable??\n",
        "\n",
        "If the 'country' column becomes part of my model it will make the model look good/ more accurate. The only problem is when you run the model the customer coming from that specific country will have a lower/higher score for cancellation. So whatever strategy the hotel staff have decided for their customer based on these probabilities then they will be forced to take those strategies every single time for the customer coming from that country. That is why we will not include a country column for our model."
      ],
      "metadata": {
        "id": "8LNRVKTayWjn"
      }
    },
    {
      "cell_type": "code",
      "source": [
        "df.groupby('country')['is_canceled'].mean() #Probability of cancellation from each country"
      ],
      "metadata": {
        "colab": {
          "base_uri": "https://localhost:8080/"
        },
        "id": "0ltgqkhB1Mgq",
        "outputId": "f0c655a7-c36c-4d96-c12a-88110c1e2d8d"
      },
      "execution_count": 212,
      "outputs": [
        {
          "output_type": "execute_result",
          "data": {
            "text/plain": [
              "country\n",
              "ABW    0.000000\n",
              "AGO    0.566298\n",
              "AIA    0.000000\n",
              "ALB    0.166667\n",
              "AND    0.714286\n",
              "         ...   \n",
              "VGB    1.000000\n",
              "VNM    0.250000\n",
              "ZAF    0.387500\n",
              "ZMB    0.500000\n",
              "ZWE    0.500000\n",
              "Name: is_canceled, Length: 178, dtype: float64"
            ]
          },
          "metadata": {},
          "execution_count": 212
        }
      ]
    },
    {
      "cell_type": "markdown",
      "source": [
        "## Why I dropped 'is_repeated_guest' column?? \n",
        "\n",
        "As we can see below the event rate for repeated guests is a little less than 15%(which is very low) and 37% is the average event rate.\n",
        "If we see the non-repeated guest is just 37-38%. So if the guest is non-repeated then there are not much likelihood/chances that s(he) will cancel the booking.\n",
        "Hence there is not a lot of potentials to capture cancellation. There I dropped it\n",
        "\n",
        "0--> Non-repeated guest\n",
        "\n",
        "1--> Repeated guest"
      ],
      "metadata": {
        "id": "AoroBFy3JmNw"
      }
    },
    {
      "cell_type": "code",
      "source": [
        " from numpy import mean\n",
        "\n",
        " ax = sns.barplot(x=\"is_repeated_guest\", y= \"is_canceled\", data=df, estimator=mean)"
      ],
      "metadata": {
        "colab": {
          "base_uri": "https://localhost:8080/",
          "height": 285
        },
        "id": "fZRUhIlW1RkS",
        "outputId": "5b549e02-fa14-450a-a69d-e2dca70fb86c"
      },
      "execution_count": 213,
      "outputs": [
        {
          "output_type": "display_data",
          "data": {
            "text/plain": [
              "<Figure size 432x288 with 1 Axes>"
            ],
            "image/png": "[encoded data removed]"
          },
          "metadata": {}
        }
      ]
    },
    {
      "cell_type": "markdown",
      "source": [
        "## Why I will be considering 'market_segment' as a variable?? \n",
        "Because we have significant chunk of observations. Hence it is a good discriminator"
      ],
      "metadata": {
        "id": "WjSMW3GMPDYz"
      }
    },
    {
      "cell_type": "code",
      "source": [
        "from numpy import mean\n",
        "\n",
        "plt.figure(figsize = (15,8))\n",
        "ax = sns.barplot(x=\"market_segment\", y = \"is_canceled\", data=df, estimator=mean)"
      ],
      "metadata": {
        "colab": {
          "base_uri": "https://localhost:8080/",
          "height": 489
        },
        "id": "T7Cs_81zIDCV",
        "outputId": "cc46aa1a-311e-43b3-d192-43983402e349"
      },
      "execution_count": 214,
      "outputs": [
        {
          "output_type": "display_data",
          "data": {
            "text/plain": [
              "<Figure size 1080x576 with 1 Axes>"
            ],
            "image/png": "[encoded data removed]"
          },
          "metadata": {}
        }
      ]
    },
    {
      "cell_type": "code",
      "source": [
        "df.groupby('market_segment')['is_canceled'].mean()"
      ],
      "metadata": {
        "colab": {
          "base_uri": "https://localhost:8080/"
        },
        "id": "Icn2K8czJKQ8",
        "outputId": "3e3e5ea2-acd9-44da-d956-a227eaeb3483"
      },
      "execution_count": 215,
      "outputs": [
        {
          "output_type": "execute_result",
          "data": {
            "text/plain": [
              "market_segment\n",
              "Aviation         0.219409\n",
              "Complementary    0.130552\n",
              "Corporate        0.187347\n",
              "Direct           0.153419\n",
              "Groups           0.610620\n",
              "Offline TA/TO    0.343160\n",
              "Online TA        0.367211\n",
              "Undefined        1.000000\n",
              "Name: is_canceled, dtype: float64"
            ]
          },
          "metadata": {},
          "execution_count": 215
        }
      ]
    },
    {
      "cell_type": "code",
      "source": [
        "df.groupby('market_segment')['is_canceled'].count()"
      ],
      "metadata": {
        "colab": {
          "base_uri": "https://localhost:8080/"
        },
        "id": "bIIUIdVSO-LT",
        "outputId": "f883cb28-7c26-41e5-9422-bf0b84935f8b"
      },
      "execution_count": 216,
      "outputs": [
        {
          "output_type": "execute_result",
          "data": {
            "text/plain": [
              "market_segment\n",
              "Aviation           237\n",
              "Complementary      743\n",
              "Corporate         5295\n",
              "Direct           12606\n",
              "Groups           19811\n",
              "Offline TA/TO    24219\n",
              "Online TA        56477\n",
              "Undefined            2\n",
              "Name: is_canceled, dtype: int64"
            ]
          },
          "metadata": {},
          "execution_count": 216
        }
      ]
    },
    {
      "cell_type": "markdown",
      "source": [
        "## Why i dropped 'arrival_date_month' variable??\n",
        "\n",
        "Because as below you can see arrival_date_month is not a big discriminator as the values are very much close to each other like 0.33; 0.37; 0.41 etc"
      ],
      "metadata": {
        "id": "CJXNTlvRQD3c"
      }
    },
    {
      "cell_type": "code",
      "source": [
        "from numpy import mean\n",
        "plt.figure(figsize = (15,8))\n",
        "ax = sns.barplot(x=\"arrival_date_month\", y = \"is_canceled\", data=df, estimator=mean)"
      ],
      "metadata": {
        "colab": {
          "base_uri": "https://localhost:8080/",
          "height": 485
        },
        "id": "4_2HTPbXIg0R",
        "outputId": "e29a8527-d7bd-4038-e19f-6af7086df651"
      },
      "execution_count": 217,
      "outputs": [
        {
          "output_type": "display_data",
          "data": {
            "text/plain": [
              "<Figure size 1080x576 with 1 Axes>"
            ],
            "image/png": "[encoded data removed]"
          },
          "metadata": {}
        }
      ]
    },
    {
      "cell_type": "code",
      "source": [
        "df.groupby('arrival_date_month')['is_canceled'].mean()"
      ],
      "metadata": {
        "colab": {
          "base_uri": "https://localhost:8080/"
        },
        "id": "9c_BFPXZJ3Ti",
        "outputId": "3d3d766c-936c-4ac2-ae1f-b22f40120a49"
      },
      "execution_count": 218,
      "outputs": [
        {
          "output_type": "execute_result",
          "data": {
            "text/plain": [
              "arrival_date_month\n",
              "April        0.407972\n",
              "August       0.377531\n",
              "December     0.349705\n",
              "February     0.334160\n",
              "January      0.304773\n",
              "July         0.374536\n",
              "June         0.414572\n",
              "March        0.321523\n",
              "May          0.396658\n",
              "November     0.312334\n",
              "October      0.380466\n",
              "September    0.391702\n",
              "Name: is_canceled, dtype: float64"
            ]
          },
          "metadata": {},
          "execution_count": 218
        }
      ]
    },
    {
      "cell_type": "markdown",
      "source": [
        "## Why I picked up 'stays_in_weekend_nights' variable??\n",
        "Because of the pocket in this variable that capture a good event rate\n",
        "\n",
        "NB! It is good for decision tree and Random forest classifier\n"
      ],
      "metadata": {
        "id": "2Q0XCCdgTuR7"
      }
    },
    {
      "cell_type": "code",
      "source": [
        "from numpy import mean\n",
        "plt.figure(figsize = (15,8))\n",
        "ax = sns.barplot(x=\"stays_in_weekend_nights\", y = \"is_canceled\", data=df, estimator=mean)"
      ],
      "metadata": {
        "colab": {
          "base_uri": "https://localhost:8080/",
          "height": 489
        },
        "id": "_VbhsIKuI0sZ",
        "outputId": "4ed379b5-e8b0-454e-9d85-ecf6adcf072a"
      },
      "execution_count": 219,
      "outputs": [
        {
          "output_type": "display_data",
          "data": {
            "text/plain": [
              "<Figure size 1080x576 with 1 Axes>"
            ],
            "image/png": "[encoded data removed]"
          },
          "metadata": {}
        }
      ]
    },
    {
      "cell_type": "code",
      "source": [
        "df.groupby('stays_in_weekend_nights')['is_canceled'].mean()"
      ],
      "metadata": {
        "colab": {
          "base_uri": "https://localhost:8080/"
        },
        "id": "sVckUYR7I97Z",
        "outputId": "af4a0401-af4c-47c1-ff97-681850bc978a"
      },
      "execution_count": 220,
      "outputs": [
        {
          "output_type": "execute_result",
          "data": {
            "text/plain": [
              "stays_in_weekend_nights\n",
              "0     0.375034\n",
              "1     0.359401\n",
              "2     0.374835\n",
              "3     0.352661\n",
              "4     0.322372\n",
              "5     0.544304\n",
              "6     0.568627\n",
              "7     0.736842\n",
              "8     0.566667\n",
              "9     0.636364\n",
              "10    0.285714\n",
              "12    0.200000\n",
              "13    0.000000\n",
              "14    0.000000\n",
              "16    0.333333\n",
              "18    0.000000\n",
              "19    0.000000\n",
              "Name: is_canceled, dtype: float64"
            ]
          },
          "metadata": {},
          "execution_count": 220
        }
      ]
    },
    {
      "cell_type": "markdown",
      "source": [
        "## Why I picked 'stays_in_week_nights' variable??\n",
        "\n",
        "Below as you can see it has lots of values so visualization is not going to help me that much.\n",
        "\n",
        "So I took 'stays_in_week_nights' as a variable and group them into 10 buckets of ranks and then value of 10 is given to the highest(10 is compose of top 10%)---> this step you can see with marking #*a*\n"
      ],
      "metadata": {
        "id": "yMWy8Aw_ReDs"
      }
    },
    {
      "cell_type": "code",
      "source": [
        "from numpy import mean\n",
        "plt.figure(figsize = (15,8))\n",
        "ax = sns.barplot(x=\"stays_in_week_nights\", y = \"is_canceled\", data=df, estimator=mean)"
      ],
      "metadata": {
        "colab": {
          "base_uri": "https://localhost:8080/",
          "height": 489
        },
        "id": "2DeP7B4AKD4B",
        "outputId": "f964e8c8-6f5b-4423-ff2d-caddec3daaa7"
      },
      "execution_count": 221,
      "outputs": [
        {
          "output_type": "display_data",
          "data": {
            "text/plain": [
              "<Figure size 1080x576 with 1 Axes>"
            ],
            "image/png": "[encoded data removed]"
          },
          "metadata": {}
        }
      ]
    },
    {
      "cell_type": "code",
      "source": [
        "df.groupby('stays_in_week_nights')['is_canceled'].mean()"
      ],
      "metadata": {
        "colab": {
          "base_uri": "https://localhost:8080/"
        },
        "id": "vXvLcXciKV0Z",
        "outputId": "2ff4629a-82f1-4eb7-e32e-4d9f900a7510"
      },
      "execution_count": 222,
      "outputs": [
        {
          "output_type": "execute_result",
          "data": {
            "text/plain": [
              "stays_in_week_nights\n",
              "0     0.250229\n",
              "1     0.324348\n",
              "2     0.441575\n",
              "3     0.382110\n",
              "4     0.365471\n",
              "5     0.348560\n",
              "6     0.388259\n",
              "7     0.313897\n",
              "8     0.335366\n",
              "9     0.411255\n",
              "10    0.284749\n",
              "11    0.625000\n",
              "12    0.547619\n",
              "13    0.407407\n",
              "14    0.885714\n",
              "15    0.505882\n",
              "16    0.687500\n",
              "17    0.500000\n",
              "18    0.833333\n",
              "19    0.659091\n",
              "20    0.414634\n",
              "21    0.733333\n",
              "22    1.000000\n",
              "24    1.000000\n",
              "25    0.000000\n",
              "26    0.000000\n",
              "30    0.200000\n",
              "32    0.000000\n",
              "33    0.000000\n",
              "34    0.000000\n",
              "35    0.000000\n",
              "40    0.500000\n",
              "41    0.000000\n",
              "42    0.000000\n",
              "50    0.000000\n",
              "Name: is_canceled, dtype: float64"
            ]
          },
          "metadata": {},
          "execution_count": 222
        }
      ]
    },
    {
      "cell_type": "code",
      "source": [
        "#a Here it is"
      ],
      "metadata": {
        "id": "aYHn0dISV3G9"
      },
      "execution_count": 223,
      "outputs": []
    },
    {
      "cell_type": "markdown",
      "source": [
        "## 'estimator=mean' --means-> means stands for the probability of cancellation when booking is made.\n",
        "\n",
        "\n",
        "mean= Total number of cancellation / Number of bookings"
      ],
      "metadata": {
        "id": "awnTX-0hxfww"
      }
    },
    {
      "cell_type": "markdown",
      "source": [
        "qcut--> is a pandas package that manages the rank\n",
        "\n",
        "method = 'first' --> means ascending order\n",
        "\n",
        "codes+1 --> makes sure that every rank has the same number of observations. So that denominator will remain same so that they can be compared"
      ],
      "metadata": {
        "id": "aSf4WKEf2eqe"
      }
    },
    {
      "cell_type": "code",
      "source": [
        "df['stays_in_week_nights_rank'] = pd.qcut(df['stays_in_week_nights'].rank(method='first').values, 10, duplicates='drop').codes+1\n",
        "\n",
        "from numpy import mean\n",
        "plt.figure(figsize = (15,8))\n",
        "a=sns.barplot(x=\"stays_in_week_nights_rank\", y=\"is_canceled\", data=df, estimator=mean)"
      ],
      "metadata": {
        "colab": {
          "base_uri": "https://localhost:8080/",
          "height": 489
        },
        "id": "BTOhHMCZKiH9",
        "outputId": "7497250f-541d-49f6-c504-5d8529474f6b"
      },
      "execution_count": 224,
      "outputs": [
        {
          "output_type": "display_data",
          "data": {
            "text/plain": [
              "<Figure size 1080x576 with 1 Axes>"
            ],
            "image/png": "[encoded data removed]"
          },
          "metadata": {}
        }
      ]
    },
    {
      "cell_type": "code",
      "source": [
        "df.groupby('stays_in_week_nights_rank')['stays_in_week_nights'].min()"
      ],
      "metadata": {
        "colab": {
          "base_uri": "https://localhost:8080/"
        },
        "id": "oNvYpPDYMQoF",
        "outputId": "df3f0d1f-3912-4ae3-fb14-b99676151084"
      },
      "execution_count": 225,
      "outputs": [
        {
          "output_type": "execute_result",
          "data": {
            "text/plain": [
              "stays_in_week_nights_rank\n",
              "1     0\n",
              "2     1\n",
              "3     1\n",
              "4     1\n",
              "5     2\n",
              "6     2\n",
              "7     2\n",
              "8     3\n",
              "9     4\n",
              "10    5\n",
              "Name: stays_in_week_nights, dtype: int64"
            ]
          },
          "metadata": {},
          "execution_count": 225
        }
      ]
    },
    {
      "cell_type": "code",
      "source": [
        "df.groupby('stays_in_week_nights_rank')['is_canceled'].mean() ##"
      ],
      "metadata": {
        "colab": {
          "base_uri": "https://localhost:8080/"
        },
        "id": "Drc9A0A3Lf-5",
        "outputId": "775acb5a-b3ba-455e-e7ee-2153516b4185"
      },
      "execution_count": 226,
      "outputs": [
        {
          "output_type": "execute_result",
          "data": {
            "text/plain": [
              "stays_in_week_nights_rank\n",
              "1     0.317531\n",
              "2     0.474244\n",
              "3     0.191808\n",
              "4     0.265098\n",
              "5     0.914063\n",
              "6     0.066756\n",
              "7     0.554485\n",
              "8     0.242734\n",
              "9     0.422648\n",
              "10    0.254795\n",
              "Name: is_canceled, dtype: float64"
            ]
          },
          "metadata": {},
          "execution_count": 226
        }
      ]
    },
    {
      "cell_type": "code",
      "source": [
        "from numpy import mean\n",
        "plt.figure(figsize = (15,8))\n",
        "ax = sns.barplot(x=\"previous_cancellations\", y = \"is_canceled\", data=df, estimator=mean)"
      ],
      "metadata": {
        "colab": {
          "base_uri": "https://localhost:8080/",
          "height": 489
        },
        "id": "Jxvth2LBL2ED",
        "outputId": "787f5538-47e5-4021-ff53-701c840e1cc9"
      },
      "execution_count": 227,
      "outputs": [
        {
          "output_type": "display_data",
          "data": {
            "text/plain": [
              "<Figure size 1080x576 with 1 Axes>"
            ],
            "image/png": "[encoded data removed]"
          },
          "metadata": {}
        }
      ]
    },
    {
      "cell_type": "code",
      "source": [
        "df['previous_cancellations'].value_counts()"
      ],
      "metadata": {
        "colab": {
          "base_uri": "https://localhost:8080/"
        },
        "id": "M-u4bd1CMDo9",
        "outputId": "65ba3ccb-c87a-4784-ce3b-433875b2181a"
      },
      "execution_count": 228,
      "outputs": [
        {
          "output_type": "execute_result",
          "data": {
            "text/plain": [
              "0     112906\n",
              "1       6051\n",
              "2        116\n",
              "3         65\n",
              "24        48\n",
              "11        35\n",
              "4         31\n",
              "26        26\n",
              "25        25\n",
              "6         22\n",
              "19        19\n",
              "5         19\n",
              "14        14\n",
              "13        12\n",
              "21         1\n",
              "Name: previous_cancellations, dtype: int64"
            ]
          },
          "metadata": {},
          "execution_count": 228
        }
      ]
    },
    {
      "cell_type": "code",
      "source": [
        "df.groupby('previous_cancellations')['is_canceled'].sum()"
      ],
      "metadata": {
        "colab": {
          "base_uri": "https://localhost:8080/"
        },
        "id": "h3_xV14aM2ah",
        "outputId": "ad5acbdf-c036-4782-9418-89ae639bab66"
      },
      "execution_count": 229,
      "outputs": [
        {
          "output_type": "execute_result",
          "data": {
            "text/plain": [
              "previous_cancellations\n",
              "0     38282\n",
              "1      5714\n",
              "2        38\n",
              "3        20\n",
              "4         7\n",
              "5         2\n",
              "6         7\n",
              "11       10\n",
              "13       11\n",
              "14       14\n",
              "19       19\n",
              "21        1\n",
              "24       48\n",
              "25       25\n",
              "26       26\n",
              "Name: is_canceled, dtype: int64"
            ]
          },
          "metadata": {},
          "execution_count": 229
        }
      ]
    },
    {
      "cell_type": "code",
      "source": [
        "df.groupby('previous_cancellations')['is_canceled'].mean()"
      ],
      "metadata": {
        "colab": {
          "base_uri": "https://localhost:8080/"
        },
        "id": "tMqIwQbAQIDU",
        "outputId": "a561507c-60dd-4890-843a-497857e58873"
      },
      "execution_count": 230,
      "outputs": [
        {
          "output_type": "execute_result",
          "data": {
            "text/plain": [
              "previous_cancellations\n",
              "0     0.339061\n",
              "1     0.944307\n",
              "2     0.327586\n",
              "3     0.307692\n",
              "4     0.225806\n",
              "5     0.105263\n",
              "6     0.318182\n",
              "11    0.285714\n",
              "13    0.916667\n",
              "14    1.000000\n",
              "19    1.000000\n",
              "21    1.000000\n",
              "24    1.000000\n",
              "25    1.000000\n",
              "26    1.000000\n",
              "Name: is_canceled, dtype: float64"
            ]
          },
          "metadata": {},
          "execution_count": 230
        }
      ]
    },
    {
      "cell_type": "markdown",
      "source": [
        "## Why I have dropped 'booking_changes'?\n",
        "\n",
        "As we can see below there is no variation as such and also in the middle & last its values are compeletly flat"
      ],
      "metadata": {
        "id": "Jnj_dWZpZ7lQ"
      }
    },
    {
      "cell_type": "code",
      "source": [
        "df.groupby('booking_changes')['is_canceled'].mean()"
      ],
      "metadata": {
        "colab": {
          "base_uri": "https://localhost:8080/"
        },
        "id": "umjuEwSJNNaJ",
        "outputId": "9b4cb48b-b0ed-403d-9769-d0c786cdd411"
      },
      "execution_count": 231,
      "outputs": [
        {
          "output_type": "execute_result",
          "data": {
            "text/plain": [
              "booking_changes\n",
              "0     0.408542\n",
              "1     0.142272\n",
              "2     0.201314\n",
              "3     0.155340\n",
              "4     0.178191\n",
              "5     0.169492\n",
              "6     0.285714\n",
              "7     0.096774\n",
              "8     0.235294\n",
              "9     0.125000\n",
              "10    0.166667\n",
              "11    0.000000\n",
              "12    0.000000\n",
              "13    0.000000\n",
              "14    0.200000\n",
              "15    0.000000\n",
              "16    0.500000\n",
              "17    0.000000\n",
              "18    0.000000\n",
              "20    0.000000\n",
              "21    0.000000\n",
              "Name: is_canceled, dtype: float64"
            ]
          },
          "metadata": {},
          "execution_count": 231
        }
      ]
    },
    {
      "cell_type": "code",
      "source": [
        "from numpy import mean\n",
        "plt.figure(figsize = (15,8))\n",
        "ax = sns.barplot(x=\"distribution_channel\", y = \"is_canceled\", data=df, estimator=mean)"
      ],
      "metadata": {
        "colab": {
          "base_uri": "https://localhost:8080/",
          "height": 489
        },
        "id": "cnrHZIyoNb8J",
        "outputId": "727d9aae-488e-4286-9817-327180046a3a"
      },
      "execution_count": 232,
      "outputs": [
        {
          "output_type": "display_data",
          "data": {
            "text/plain": [
              "<Figure size 1080x576 with 1 Axes>"
            ],
            "image/png": "[encoded data removed]"
          },
          "metadata": {}
        }
      ]
    },
    {
      "cell_type": "markdown",
      "source": [
        "## Why I have dropped 'reserved_room_type'??\n",
        "\n",
        "Because if we see 'P' there are only 12 resolutions(very few) hence it's not very trustworthy as its data volume capture is very low.\n",
        "\n",
        "NB! We can use it but it will result in a very weak predictor"
      ],
      "metadata": {
        "id": "SmW0PnoMbAYe"
      }
    },
    {
      "cell_type": "code",
      "source": [
        "from numpy import mean\n",
        "plt.figure(figsize = (15,8))\n",
        "ax = sns.barplot(x=\"reserved_room_type\", y = \"is_canceled\", data=df, estimator=mean)"
      ],
      "metadata": {
        "colab": {
          "base_uri": "https://localhost:8080/",
          "height": 489
        },
        "id": "__yIDeVQO6fd",
        "outputId": "d64f821f-a8b5-4ed5-e075-13b74c923f08"
      },
      "execution_count": 233,
      "outputs": [
        {
          "output_type": "display_data",
          "data": {
            "text/plain": [
              "<Figure size 1080x576 with 1 Axes>"
            ],
            "image/png": "[encoded data removed]"
          },
          "metadata": {}
        }
      ]
    },
    {
      "cell_type": "code",
      "source": [
        "df.groupby('reserved_room_type')['is_canceled'].count()"
      ],
      "metadata": {
        "colab": {
          "base_uri": "https://localhost:8080/"
        },
        "id": "TjiOn9fqPZC9",
        "outputId": "ef026162-e23b-4163-f3ad-f5fb4ab745e2"
      },
      "execution_count": 234,
      "outputs": [
        {
          "output_type": "execute_result",
          "data": {
            "text/plain": [
              "reserved_room_type\n",
              "A    85994\n",
              "B     1118\n",
              "C      932\n",
              "D    19201\n",
              "E     6535\n",
              "F     2897\n",
              "G     2094\n",
              "H      601\n",
              "L        6\n",
              "P       12\n",
              "Name: is_canceled, dtype: int64"
            ]
          },
          "metadata": {},
          "execution_count": 234
        }
      ]
    },
    {
      "cell_type": "markdown",
      "source": [
        "## Note:  \n",
        "If we have a variable like 'P' which captures a category of 100% although there are few observations then it's better not to use that variable. If there is discrimination between the rest of the categories we could have used it by grouping it with something else. But as the above does not show that such discrimination and this one category 'P' which has very low data volume and has a high capture rate then there are chances that it will tend to be a very dominating variable.\n",
        "\n",
        "That is why I dropped 'reserved_room_type'"
      ],
      "metadata": {
        "id": "SG4VGjZmcW3I"
      }
    },
    {
      "cell_type": "code",
      "source": [
        "from numpy import mean\n",
        "plt.figure(figsize = (15,8))\n",
        "ax = sns.barplot(x=\"deposit_type\", y = \"is_canceled\", data=df, estimator=mean)"
      ],
      "metadata": {
        "colab": {
          "base_uri": "https://localhost:8080/",
          "height": 489
        },
        "id": "qYjj-hrJPHG5",
        "outputId": "2361e182-97d1-42aa-f53e-35f97c3eb6ee"
      },
      "execution_count": 235,
      "outputs": [
        {
          "output_type": "display_data",
          "data": {
            "text/plain": [
              "<Figure size 1080x576 with 1 Axes>"
            ],
            "image/png": "[encoded data removed]"
          },
          "metadata": {}
        }
      ]
    },
    {
      "cell_type": "code",
      "source": [
        "df.groupby('deposit_type')['is_canceled'].mean()"
      ],
      "metadata": {
        "colab": {
          "base_uri": "https://localhost:8080/"
        },
        "id": "7RA-vOm0P3FV",
        "outputId": "b2052abe-028c-4e2a-d7ae-40b0cbd1c37f"
      },
      "execution_count": 236,
      "outputs": [
        {
          "output_type": "execute_result",
          "data": {
            "text/plain": [
              "deposit_type\n",
              "No Deposit    0.283770\n",
              "Non Refund    0.993624\n",
              "Refundable    0.222222\n",
              "Name: is_canceled, dtype: float64"
            ]
          },
          "metadata": {},
          "execution_count": 236
        }
      ]
    },
    {
      "cell_type": "code",
      "source": [
        "df.groupby('deposit_type')['is_canceled'].count()"
      ],
      "metadata": {
        "colab": {
          "base_uri": "https://localhost:8080/"
        },
        "id": "qRgRtEaD-Zt7",
        "outputId": "0b248b00-58ae-4a81-f2be-6e28e4dc6505"
      },
      "execution_count": 237,
      "outputs": [
        {
          "output_type": "execute_result",
          "data": {
            "text/plain": [
              "deposit_type\n",
              "No Deposit    104641\n",
              "Non Refund     14587\n",
              "Refundable       162\n",
              "Name: is_canceled, dtype: int64"
            ]
          },
          "metadata": {},
          "execution_count": 237
        }
      ]
    },
    {
      "cell_type": "markdown",
      "source": [
        "# I am leaving them because the amount of data is less but they are capturing a high event rate"
      ],
      "metadata": {
        "id": "JW0xV4yih5db"
      }
    },
    {
      "cell_type": "markdown",
      "source": [
        "Note:\n",
        "\n",
        "As shown above Non Refund= 0.993624\n",
        "there it is dominating and other two variables i.e., No deposit and Refundable mean is almost same hence I dropped 'deposit_type'"
      ],
      "metadata": {
        "id": "ynDHMFt7hIEG"
      }
    },
    {
      "cell_type": "markdown",
      "source": [
        "## Why I picked 'customer_type'??\n",
        "\n",
        "Because 'Transient' shows the highest capture and at the same time when I check 'Transient' group to have a maximum data volume"
      ],
      "metadata": {
        "id": "OZPOu6IpnqBk"
      }
    },
    {
      "cell_type": "code",
      "source": [
        "from numpy import mean\n",
        "plt.figure(figsize = (15,8))\n",
        "ax = sns.barplot(x=\"customer_type\", y = \"is_canceled\", data=df, estimator=mean)"
      ],
      "metadata": {
        "colab": {
          "base_uri": "https://localhost:8080/",
          "height": 485
        },
        "id": "wY1PJAlYPQg5",
        "outputId": "a2a134e7-9303-415d-f081-c372352ba880"
      },
      "execution_count": 238,
      "outputs": [
        {
          "output_type": "display_data",
          "data": {
            "text/plain": [
              "<Figure size 1080x576 with 1 Axes>"
            ],
            "image/png": "[encoded data removed]"
          },
          "metadata": {}
        }
      ]
    },
    {
      "cell_type": "code",
      "source": [
        "df.groupby('customer_type')['is_canceled'].mean()"
      ],
      "metadata": {
        "colab": {
          "base_uri": "https://localhost:8080/"
        },
        "id": "rPp7pueRBEiU",
        "outputId": "64114024-1f72-4f27-a232-262823b4ff83"
      },
      "execution_count": 239,
      "outputs": [
        {
          "output_type": "execute_result",
          "data": {
            "text/plain": [
              "customer_type\n",
              "Contract           0.309617\n",
              "Group              0.102253\n",
              "Transient          0.407463\n",
              "Transient-Party    0.254299\n",
              "Name: is_canceled, dtype: float64"
            ]
          },
          "metadata": {},
          "execution_count": 239
        }
      ]
    },
    {
      "cell_type": "code",
      "source": [
        "df.groupby('customer_type')['is_canceled'].count()"
      ],
      "metadata": {
        "colab": {
          "base_uri": "https://localhost:8080/"
        },
        "id": "aI53r6Kgnc-3",
        "outputId": "c0a15018-d912-425c-c63c-1eaee25fab6c"
      },
      "execution_count": 240,
      "outputs": [
        {
          "output_type": "execute_result",
          "data": {
            "text/plain": [
              "customer_type\n",
              "Contract            4076\n",
              "Group                577\n",
              "Transient          89613\n",
              "Transient-Party    25124\n",
              "Name: is_canceled, dtype: int64"
            ]
          },
          "metadata": {},
          "execution_count": 240
        }
      ]
    },
    {
      "cell_type": "code",
      "source": [
        "from numpy import mean\n",
        "plt.figure(figsize = (15,8))\n",
        "ax = sns.barplot(x=\"total_of_special_requests\", y = \"is_canceled\", data=df, estimator=mean)"
      ],
      "metadata": {
        "id": "uZhSUxRrPsNA",
        "colab": {
          "base_uri": "https://localhost:8080/",
          "height": 489
        },
        "outputId": "22da6fbc-828d-42ec-b1e1-9e4fadecb0cc"
      },
      "execution_count": 241,
      "outputs": [
        {
          "output_type": "display_data",
          "data": {
            "text/plain": [
              "<Figure size 1080x576 with 1 Axes>"
            ],
            "image/png": "[encoded data removed]"
          },
          "metadata": {}
        }
      ]
    },
    {
      "cell_type": "markdown",
      "source": [
        "## Why I picked 'day_wait_rank'??\n",
        "\n",
        "As we can see below the data volumn for all variables are same and there is variation is event capture rate. Hence I picked 'day_wait_rank'"
      ],
      "metadata": {
        "id": "I0J2hVwcp5RH"
      }
    },
    {
      "cell_type": "code",
      "source": [
        "df['day_wait_rank'] = pd.qcut(df['days_in_waiting_list'].rank(method='first').values, 5, duplicates='drop').codes+1\n",
        "# Sometimes min-max values are not clearly define so I reduce the rank from 10 to 5\n",
        "from numpy import mean\n",
        "plt.figure(figsize = (15,8))\n",
        "a=sns.barplot(x=\"day_wait_rank\", y=\"is_canceled\", data=df, estimator=mean)"
      ],
      "metadata": {
        "colab": {
          "base_uri": "https://localhost:8080/",
          "height": 489
        },
        "id": "opq8GdnAAyq2",
        "outputId": "2e301341-10d3-4e74-a482-6f6a22f92ed2"
      },
      "execution_count": 242,
      "outputs": [
        {
          "output_type": "display_data",
          "data": {
            "text/plain": [
              "<Figure size 1080x576 with 1 Axes>"
            ],
            "image/png": "[encoded data removed]"
          },
          "metadata": {}
        }
      ]
    },
    {
      "cell_type": "code",
      "source": [
        "df.groupby('day_wait_rank')['is_canceled'].mean()"
      ],
      "metadata": {
        "colab": {
          "base_uri": "https://localhost:8080/"
        },
        "id": "BrfAp-xVpwll",
        "outputId": "37420e45-b092-4e6e-fe59-a6120a9dd0b6"
      },
      "execution_count": 243,
      "outputs": [
        {
          "output_type": "execute_result",
          "data": {
            "text/plain": [
              "day_wait_rank\n",
              "1    0.463774\n",
              "2    0.151143\n",
              "3    0.971396\n",
              "4    0.166220\n",
              "5    0.099548\n",
              "Name: is_canceled, dtype: float64"
            ]
          },
          "metadata": {},
          "execution_count": 243
        }
      ]
    },
    {
      "cell_type": "code",
      "source": [
        "df.groupby('day_wait_rank')['is_canceled'].count()"
      ],
      "metadata": {
        "colab": {
          "base_uri": "https://localhost:8080/"
        },
        "id": "LI3r3nLWH4h3",
        "outputId": "cbae57ef-dd6a-4a46-e3b3-03cad9a78a9f"
      },
      "execution_count": 244,
      "outputs": [
        {
          "output_type": "execute_result",
          "data": {
            "text/plain": [
              "day_wait_rank\n",
              "1    23878\n",
              "2    23878\n",
              "3    23878\n",
              "4    23878\n",
              "5    23878\n",
              "Name: is_canceled, dtype: int64"
            ]
          },
          "metadata": {},
          "execution_count": 244
        }
      ]
    },
    {
      "cell_type": "code",
      "source": [
        "df['adr_rank'] = pd.qcut(df['adr'].rank(method='first').values, 10, duplicates='drop').codes+1\n",
        "\n",
        "from numpy import mean\n",
        "plt.figure(figsize = (15,8))\n",
        "a=sns.barplot(x=\"adr_rank\", y=\"is_canceled\", data=df, estimator=mean)"
      ],
      "metadata": {
        "colab": {
          "base_uri": "https://localhost:8080/",
          "height": 489
        },
        "id": "UjP7JmSBB66b",
        "outputId": "7f8c4e0e-cf7b-4136-d347-793d2243ad75"
      },
      "execution_count": 245,
      "outputs": [
        {
          "output_type": "display_data",
          "data": {
            "text/plain": [
              "<Figure size 1080x576 with 1 Axes>"
            ],
            "image/png": "[encoded data removed]"
          },
          "metadata": {}
        }
      ]
    },
    {
      "cell_type": "code",
      "source": [
        "df['previous_cancellations_rank'] = pd.qcut(df['previous_cancellations'].rank(method='first').values, 5, duplicates='drop').codes+1\n",
        "\n",
        "from numpy import mean\n",
        "plt.figure(figsize = (15,8))\n",
        "a=sns.barplot(x=\"previous_cancellations_rank\", y=\"is_canceled\", data=df, estimator=mean)"
      ],
      "metadata": {
        "colab": {
          "base_uri": "https://localhost:8080/",
          "height": 489
        },
        "id": "Yj402i0xCK-7",
        "outputId": "ccf58579-9e9a-4f9a-c135-8ff8075f073c"
      },
      "execution_count": 246,
      "outputs": [
        {
          "output_type": "display_data",
          "data": {
            "text/plain": [
              "<Figure size 1080x576 with 1 Axes>"
            ],
            "image/png": "[encoded data removed]"
          },
          "metadata": {}
        }
      ]
    },
    {
      "cell_type": "code",
      "source": [
        "df['lead_time_rank'] = pd.qcut(df['lead_time'].rank(method='first').values, 10, duplicates='drop').codes+1\n",
        "\n",
        "from numpy import mean\n",
        "plt.figure(figsize = (15,8))\n",
        "a=sns.barplot(x=\"lead_time_rank\", y=\"is_canceled\", data=df, estimator=mean)"
      ],
      "metadata": {
        "colab": {
          "base_uri": "https://localhost:8080/",
          "height": 489
        },
        "id": "xUDMCnGoCfG6",
        "outputId": "15ad2fd9-a321-49c8-84cf-2cd6bfb4d55e"
      },
      "execution_count": 247,
      "outputs": [
        {
          "output_type": "display_data",
          "data": {
            "text/plain": [
              "<Figure size 1080x576 with 1 Axes>"
            ],
            "image/png": "[encoded data removed]"
          },
          "metadata": {}
        }
      ]
    },
    {
      "cell_type": "code",
      "source": [
        "#Below  features or feature combinations hint that the booking is likely to be cancelled"
      ],
      "metadata": {
        "id": "RUcI-6gZqHaC"
      },
      "execution_count": 272,
      "outputs": []
    },
    {
      "cell_type": "markdown",
      "source": [
        "## Model preparation"
      ],
      "metadata": {
        "id": "xsvmCC5Vw-ca"
      }
    },
    {
      "cell_type": "code",
      "source": [
        "dep=['is_canceled']\n",
        "col_num = ['lead_time', 'adr'] #series of continous variables\n",
        "\n",
        "col_char= ['day_wait_rank','total_of_special_requests', 'customer_type', \n",
        "           'reserved_room_type', 'distribution_channel', 'market_segment', \n",
        "           'stays_in_week_nights_rank', 'previous_cancellations'] #series of categorical variables"
      ],
      "metadata": {
        "id": "AiH9SCBZC8Dz"
      },
      "execution_count": 248,
      "outputs": []
    },
    {
      "cell_type": "code",
      "source": [
        "X_char_dum = pd.get_dummies(df[col_char], drop_first = True)"
      ],
      "metadata": {
        "id": "vGnMD1dzDlKr"
      },
      "execution_count": 249,
      "outputs": []
    },
    {
      "cell_type": "code",
      "source": [
        "X_all = pd.concat([df[col_num], X_char_dum], axis=1, join='inner')"
      ],
      "metadata": {
        "id": "YffFrU9YDw0v"
      },
      "execution_count": 250,
      "outputs": []
    },
    {
      "cell_type": "code",
      "source": [
        "X_var=X_all\n",
        "Y_var= df['is_canceled']"
      ],
      "metadata": {
        "id": "s56YLvx6D-9O"
      },
      "execution_count": 251,
      "outputs": []
    },
    {
      "cell_type": "markdown",
      "source": [
        "Logistic Regression: is the method to predict the target variable which is the probability of cancellation occurring.\n",
        "\n",
        "Decision tree classifier: is the method that predicts the cancellation based on several input variables\n",
        "\n",
        "Random forest classifier: It uses a decision tree built on the different sample and then caste vote for the cancellation prediction"
      ],
      "metadata": {
        "id": "G_6ahmGjjxAU"
      }
    },
    {
      "cell_type": "code",
      "source": [
        "from sklearn.linear_model import LogisticRegression\n",
        "from sklearn import tree\n",
        "from sklearn.tree import DecisionTreeClassifier\n",
        "from sklearn.ensemble import RandomForestClassifier\n",
        "from sklearn import metrics\n",
        "\n",
        "X_train, X_test, y_train, y_test = train_test_split(X_var, Y_var, test_size=0.3, random_state=0)\n",
        "                                                    \n",
        "logreg = LogisticRegression()\n",
        "logreg.fit(X_train, y_train)\n",
        "\n",
        "dtree = DecisionTreeClassifier(criterion = \"gini\", random_state = 100, max_depth = 7, min_samples_leaf=5)\n",
        "dtree.fit(X_train, y_train)\n",
        "\n",
        "rf_1000 = RandomForestClassifier(n_estimators =1000,\n",
        "                                 random_state = 2,\n",
        "                                 criterion = 'gini',\n",
        "                                 max_features = 'auto',\n",
        "                                 max_depth = 7)\n",
        "\n",
        "rf_1000.fit(X_train, y_train)"
      ],
      "metadata": {
        "colab": {
          "base_uri": "https://localhost:8080/"
        },
        "id": "d3VyDePlEGk2",
        "outputId": "67f383b4-bd4b-4234-81e4-05314a0faef9"
      },
      "execution_count": 252,
      "outputs": [
        {
          "output_type": "stream",
          "name": "stderr",
          "text": [
            "/usr/local/lib/python3.7/dist-packages/sklearn/linear_model/_logistic.py:818: ConvergenceWarning: lbfgs failed to converge (status=1):\n",
            "STOP: TOTAL NO. of ITERATIONS REACHED LIMIT.\n",
            "\n",
            "Increase the number of iterations (max_iter) or scale the data as shown in:\n",
            "    https://scikit-learn.org/stable/modules/preprocessing.html\n",
            "Please also refer to the documentation for alternative solver options:\n",
            "    https://scikit-learn.org/stable/modules/linear_model.html#logistic-regression\n",
            "  extra_warning_msg=_LOGISTIC_SOLVER_CONVERGENCE_MSG,\n"
          ]
        },
        {
          "output_type": "execute_result",
          "data": {
            "text/plain": [
              "RandomForestClassifier(max_depth=7, n_estimators=1000, random_state=2)"
            ]
          },
          "metadata": {},
          "execution_count": 252
        }
      ]
    },
    {
      "cell_type": "code",
      "source": [
        "y_pred = logreg.predict(X_test)\n",
        "print('Accuracy of logistic regression classifier on test set: {:.2f}'.format(logreg.score(X_test, y_test)))"
      ],
      "metadata": {
        "colab": {
          "base_uri": "https://localhost:8080/"
        },
        "id": "ax6OzYafNQut",
        "outputId": "cbd92690-ded6-4607-e200-438bb070c7d3"
      },
      "execution_count": 253,
      "outputs": [
        {
          "output_type": "stream",
          "name": "stdout",
          "text": [
            "Accuracy of logistic regression classifier on test set: 0.79\n"
          ]
        }
      ]
    },
    {
      "cell_type": "code",
      "source": [
        "y_pred_tree = dtree.predict(X_test)\n",
        "print('Accuracy of Decision tree classifier on test set: {:.2f}'.format(dtree.score(X_test, y_test)))"
      ],
      "metadata": {
        "colab": {
          "base_uri": "https://localhost:8080/"
        },
        "id": "BydMZQkdOCCw",
        "outputId": "35570d61-061e-4ccd-fec5-7779c31a3477"
      },
      "execution_count": 254,
      "outputs": [
        {
          "output_type": "stream",
          "name": "stdout",
          "text": [
            "Accuracy of Decision tree classifier on test set: 0.90\n"
          ]
        }
      ]
    },
    {
      "cell_type": "code",
      "source": [
        "y_pred_RF = rf_1000.predict(X_test)\n",
        "print('Accuracy of Random forest classifier on test set: {:.2f}'.format(rf_1000.score(X_test, y_test)))"
      ],
      "metadata": {
        "colab": {
          "base_uri": "https://localhost:8080/"
        },
        "id": "4-fYuE7lO-G-",
        "outputId": "d9470c70-d606-40e2-e70e-8deff124234c"
      },
      "execution_count": 255,
      "outputs": [
        {
          "output_type": "stream",
          "name": "stdout",
          "text": [
            "Accuracy of Random forest classifier on test set: 0.89\n"
          ]
        }
      ]
    },
    {
      "cell_type": "code",
      "source": [
        "# We can see that the accuracy rate of Decision tree and random forest classifier is very good"
      ],
      "metadata": {
        "id": "9tGQ1-Nqq-yY"
      },
      "execution_count": 273,
      "outputs": []
    },
    {
      "cell_type": "code",
      "source": [
        "from sklearn.metrics import confusion_matrix\n",
        "confusion_matrix = confusion_matrix(y_test, y_pred)\n",
        "print(confusion_matrix)"
      ],
      "metadata": {
        "colab": {
          "base_uri": "https://localhost:8080/"
        },
        "id": "B1sS8XIvPa9x",
        "outputId": "c5eaaa80-508b-4ee1-b41b-3687c0dc2bdc"
      },
      "execution_count": 256,
      "outputs": [
        {
          "output_type": "stream",
          "name": "stdout",
          "text": [
            "[[19589  2782]\n",
            " [ 4832  8614]]\n"
          ]
        }
      ]
    },
    {
      "cell_type": "code",
      "source": [
        "from sklearn.metrics import classification_report\n",
        "print(classification_report(y_test, y_pred_tree))"
      ],
      "metadata": {
        "colab": {
          "base_uri": "https://localhost:8080/"
        },
        "id": "l-k4-z4xPuOD",
        "outputId": "2c5df5b5-36e6-4186-ad38-ed4f6af3e90e"
      },
      "execution_count": 257,
      "outputs": [
        {
          "output_type": "stream",
          "name": "stdout",
          "text": [
            "              precision    recall  f1-score   support\n",
            "\n",
            "           0       0.91      0.93      0.92     22371\n",
            "           1       0.88      0.84      0.86     13446\n",
            "\n",
            "    accuracy                           0.90     35817\n",
            "   macro avg       0.90      0.89      0.89     35817\n",
            "weighted avg       0.90      0.90      0.90     35817\n",
            "\n"
          ]
        }
      ]
    },
    {
      "cell_type": "code",
      "source": [
        "from sklearn.metrics import roc_auc_score\n",
        "from sklearn.metrics import roc_curve\n",
        "\n",
        "logit_roc_auc = roc_auc_score(y_test, logreg.predict(X_test))\n",
        "tree_roc_auc = roc_auc_score(y_test, dtree.predict(X_test))\n",
        "RF_roc_auc = roc_auc_score(y_test, rf_1000.predict(X_test))\n",
        "\n",
        "fpr, tpr, thresholds = roc_curve(y_test, logreg.predict_proba(X_test)[:, 1])\n",
        "fpr, tpr, thresholds = roc_curve(y_test, dtree.predict_proba(X_test)[:, 1])\n",
        "fpr, tpr, thresholds = roc_curve(y_test, rf_1000.predict_proba(X_test)[:, 1])\n",
        "\n",
        "plt.figure(figsize = (15,8))\n",
        "plt.figure()\n",
        "\n",
        "plt.plot(fpr, tpr, label ='Logistic Regression (area = %0.2f)' % logit_roc_auc)\n",
        "plt.plot(fpr, tpr, label ='Decision tree (area = %0.2f)' % tree_roc_auc)\n",
        "plt.plot(fpr, tpr, label ='Random forest (area = %0.2f)' % RF_roc_auc)\n",
        "\n",
        "plt.plot([0,1], [0,1], 'r--')\n",
        "plt.xlim([0.0, 0.1])\n",
        "plt.ylim([0.0, 1.05])\n",
        "plt.xlabel('False Positive rate')\n",
        "plt.ylabel('True Positive rate')\n",
        "plt.title('Receiver operating characteristic')\n",
        "plt.legend(loc='lower right')\n",
        "plt.savefig('Log_ROC')\n",
        "plt.show()"
      ],
      "metadata": {
        "colab": {
          "base_uri": "https://localhost:8080/",
          "height": 319
        },
        "id": "95lJwIxjQQqW",
        "outputId": "ed01ac89-8de7-4459-e324-13a66cb55277"
      },
      "execution_count": 258,
      "outputs": [
        {
          "output_type": "display_data",
          "data": {
            "text/plain": [
              "<Figure size 1080x576 with 0 Axes>"
            ]
          },
          "metadata": {}
        },
        {
          "output_type": "display_data",
          "data": {
            "text/plain": [
              "<Figure size 432x288 with 1 Axes>"
            ],
            "image/png": "[encoded data removed]"
          },
          "metadata": {}
        }
      ]
    },
    {
      "cell_type": "markdown",
      "source": [
        "## Above we can see the highly discriminating ROC curve"
      ],
      "metadata": {
        "id": "tLN4aFNsAfnx"
      }
    },
    {
      "cell_type": "markdown",
      "source": [
        "# Predictions from the models"
      ],
      "metadata": {
        "id": "G4Yrk-nkwTi5"
      }
    },
    {
      "cell_type": "markdown",
      "source": [
        "I am using the model predicted probabilities and I have created 10 ranks out of these probabilities\n",
        "10th  being the highest & 1st being the lowest.\n",
        "\n",
        "Now what is meant by these 10 ranks?? \n",
        "\n",
        "Is that the people will recieve the number 10 are top 10% of these cancellation likelihood cases predicted by the model.\n",
        "\n",
        "Now what I want to know is out of these 10 cases predicted by the model is in reality how many cancellation do I find?\n",
        "So that it will tell me the probability of cancellation in that group. "
      ],
      "metadata": {
        "id": "nkEwKytBykE-"
      }
    },
    {
      "cell_type": "code",
      "source": [
        "y_pred_prob = logreg.predict_proba(X_var)[:, 1]\n",
        "df['y_pred_P'] = pd.DataFrame(y_pred_prob)\n",
        "df['P_Rank'] = pd.qcut(df['y_pred_P'].rank(method='first').values, 10, duplicates = 'drop').codes+1\n",
        "df.groupby('P_Rank')['is_canceled'].mean()\n",
        "                    "
      ],
      "metadata": {
        "colab": {
          "base_uri": "https://localhost:8080/"
        },
        "id": "cMwy5t40R6MQ",
        "outputId": "49e19ffd-0275-4dfc-b49d-1076a0cd4eda"
      },
      "execution_count": 259,
      "outputs": [
        {
          "output_type": "execute_result",
          "data": {
            "text/plain": [
              "P_Rank\n",
              "1     0.051931\n",
              "2     0.106290\n",
              "3     0.116258\n",
              "4     0.165424\n",
              "5     0.218695\n",
              "6     0.314432\n",
              "7     0.448027\n",
              "8     0.594606\n",
              "9     0.744954\n",
              "10    0.943546\n",
              "Name: is_canceled, dtype: float64"
            ]
          },
          "metadata": {},
          "execution_count": 259
        }
      ]
    },
    {
      "cell_type": "code",
      "source": [
        "y_pred_prob_dtree = dtree.predict_proba(X_var)[:, 1]\n",
        "df['y_pred_P_dtree'] = pd.DataFrame(y_pred_prob_dtree)\n",
        "df['P_Rank_dtree'] = pd.qcut(df['y_pred_P_dtree'].rank(method='first').values, 10, duplicates = 'drop').codes+1\n",
        "df.groupby('P_Rank_dtree')['is_canceled'].mean()"
      ],
      "metadata": {
        "colab": {
          "base_uri": "https://localhost:8080/"
        },
        "id": "BA1fx4cbVxq0",
        "outputId": "a08d83dc-e88c-486d-8708-2ebedc5e4963"
      },
      "execution_count": 260,
      "outputs": [
        {
          "output_type": "execute_result",
          "data": {
            "text/plain": [
              "P_Rank_dtree\n",
              "1     0.001591\n",
              "2     0.000084\n",
              "3     0.008125\n",
              "4     0.020437\n",
              "5     0.069269\n",
              "6     0.240807\n",
              "7     0.605746\n",
              "8     0.763464\n",
              "9     0.996398\n",
              "10    0.998241\n",
              "Name: is_canceled, dtype: float64"
            ]
          },
          "metadata": {},
          "execution_count": 260
        }
      ]
    },
    {
      "cell_type": "code",
      "source": [
        "y_pred_prob_rf = rf_1000.predict_proba(X_var)[:, 1]\n",
        "df['y_pred_P_rf'] = pd.DataFrame(y_pred_prob_rf)\n",
        "df['P_Rank_rf'] = pd.qcut(df['y_pred_P_rf'].rank(method='first').values, 10, duplicates = 'drop').codes+1\n",
        "df.groupby('P_Rank_rf')['is_canceled'].mean()"
      ],
      "metadata": {
        "colab": {
          "base_uri": "https://localhost:8080/"
        },
        "id": "um_ztkDUWXbb",
        "outputId": "161263f6-474b-4981-b457-00425de3a614"
      },
      "execution_count": 261,
      "outputs": [
        {
          "output_type": "execute_result",
          "data": {
            "text/plain": [
              "P_Rank_rf\n",
              "1     0.005947\n",
              "2     0.004774\n",
              "3     0.013318\n",
              "4     0.041796\n",
              "5     0.106290\n",
              "6     0.253120\n",
              "7     0.460173\n",
              "8     0.838429\n",
              "9     0.982662\n",
              "10    0.997655\n",
              "Name: is_canceled, dtype: float64"
            ]
          },
          "metadata": {},
          "execution_count": 261
        }
      ]
    },
    {
      "cell_type": "code",
      "source": [
        "df.head()\n",
        "df.to_csv('hotel_booking_score_file.csv') #new csv file generated"
      ],
      "metadata": {
        "id": "9ofBA8fqWsrY"
      },
      "execution_count": 262,
      "outputs": []
    },
    {
      "cell_type": "markdown",
      "source": [
        "#Note: Identify as many events as possible by spending as less data observations as possible. It is the same as building a strategy to conduct as few experiments as possible but ensure maximum success at the same time"
      ],
      "metadata": {
        "id": "52ZzuIyW7_EL"
      }
    },
    {
      "cell_type": "markdown",
      "source": [
        "## How are the two hotels being booked throughout the year? Analyze the weekly or monthly data to provide insights and conclusions for the owner."
      ],
      "metadata": {
        "id": "nrJ0_zkss31I"
      }
    },
    {
      "cell_type": "markdown",
      "source": [
        "As we can see that the months like August, December and March see the higher non-cancellation booking spikes. It is obvious as well because in these months there are summer holidays, Christmas and winter holidays.\n",
        "\n",
        "Hence customers already preplanned the booking for it so that later booking waiting can be avoided.\n",
        "\n",
        "And if I compare the hotels then the City hotel is booked more in numbers than the resort hotel."
      ],
      "metadata": {
        "id": "Vn--tQu2FGpl"
      }
    },
    {
      "cell_type": "code",
      "source": [
        "my_df =  pd.read_csv(\"hotel_booking.csv\")\n",
        "my_df = my_df[my_df['hotel']=='City Hotel']\n",
        "my_df = my_df[my_df['is_canceled']==0]\n",
        "\n",
        "f = pd.DataFrame(my_df, columns= ['arrival_date_month'])\n",
        "ups_color = f.pivot_table(columns=['arrival_date_month'], aggfunc='size')\n",
        "City_Hotel = ups_color.tolist()\n",
        "City_Hotel"
      ],
      "metadata": {
        "colab": {
          "base_uri": "https://localhost:8080/"
        },
        "id": "W9UYaVItHGbP",
        "outputId": "625cbd27-4903-41eb-8ca0-a54a98988748"
      },
      "execution_count": 263,
      "outputs": [
        {
          "output_type": "execute_result",
          "data": {
            "text/plain": [
              "[4015, 5381, 2392, 3064, 2254, 4782, 4366, 4072, 4579, 2696, 4337, 4290]"
            ]
          },
          "metadata": {},
          "execution_count": 263
        }
      ]
    },
    {
      "cell_type": "code",
      "source": [
        "my_df =  pd.read_csv(\"hotel_booking.csv\")\n",
        "my_df = my_df[my_df['hotel']=='Resort Hotel']\n",
        "my_df = my_df[my_df['is_canceled']==0]\n",
        "\n",
        "f = pd.DataFrame(my_df, columns= ['arrival_date_month'])\n",
        "ups_color = f.pivot_table(columns=['arrival_date_month'], aggfunc='size')\n",
        "Resort_Hotel = ups_color.tolist()\n",
        "Resort_Hotel"
      ],
      "metadata": {
        "colab": {
          "base_uri": "https://localhost:8080/"
        },
        "id": "5-3L4ok9kiNY",
        "outputId": "0c6d8db3-8546-4bc1-e9d7-70859e2650c8"
      },
      "execution_count": 264,
      "outputs": [
        {
          "output_type": "execute_result",
          "data": {
            "text/plain": [
              "[2550, 3257, 2017, 2308, 1868, 3137, 2038, 2573, 2535, 1976, 2577, 2102]"
            ]
          },
          "metadata": {},
          "execution_count": 264
        }
      ]
    },
    {
      "cell_type": "code",
      "source": [
        "months = ['July', 'August', 'September', 'October', 'November', 'December', 'January', 'February', 'March', 'April', 'May', 'June' ] #as arranged in the data column\n"
      ],
      "metadata": {
        "id": "cS5oKxRdoqTP"
      },
      "execution_count": 265,
      "outputs": []
    },
    {
      "cell_type": "code",
      "source": [
        "plt.figure(figsize = (15,8))\n",
        "plt.plot(months, City_Hotel, color='b', label='City Hotel')\n",
        "plt.plot(months, Resort_Hotel, color='r', label='Resort Hotel')\n",
        "plt.xlabel(\"Months\")\n",
        "plt.ylabel(\"Non-cancelled booking\")\n",
        "plt.title(\"Booking per month\")\n",
        "plt.legend()\n",
        "plt.show()"
      ],
      "metadata": {
        "colab": {
          "base_uri": "https://localhost:8080/",
          "height": 499
        },
        "id": "sSH3Kb7lqN3z",
        "outputId": "fe6f0648-08d7-47ca-91ae-a1303d64ef13"
      },
      "execution_count": 266,
      "outputs": [
        {
          "output_type": "display_data",
          "data": {
            "text/plain": [
              "<Figure size 1080x576 with 1 Axes>"
            ],
            "image/png": "[encoded data removed]"
          },
          "metadata": {}
        }
      ]
    },
    {
      "cell_type": "markdown",
      "source": [
        "## How have the years affected the booking?"
      ],
      "metadata": {
        "id": "hIndbfV3s-aj"
      }
    },
    {
      "cell_type": "markdown",
      "source": [
        "For the reservation status \n",
        "\n",
        "Checkout means the customer stayed in the hotel and didn't make the cancellation\n",
        "\n",
        "Cancelled means the customer cancelled the booking\n",
        "\n",
        "No-show means the customer didn't stay in the hotel but also didn't make the cancellation\n",
        "\n",
        "\n",
        "I have added the checkout value and no-show value and subtracted it with the Canceled value to know which year was good for the hotel.\n",
        "\n",
        "So for City hotel 2016 was a good year\n",
        "Also for the resort hotel, 2016 was a good year.\n",
        "\n",
        "But if I compare both the hotels the City hotel outperforms the resort hotel"
      ],
      "metadata": {
        "id": "Ooe5V1G5X243"
      }
    },
    {
      "cell_type": "code",
      "source": [
        "df.groupby(['hotel', 'arrival_date_year'])['reservation_status'].agg(['value_counts'])"
      ],
      "metadata": {
        "colab": {
          "base_uri": "https://localhost:8080/",
          "height": 645
        },
        "id": "ThregA4FBnla",
        "outputId": "707d2b99-6f6d-4f86-fe58-7ae99d00a09f"
      },
      "execution_count": 267,
      "outputs": [
        {
          "output_type": "execute_result",
          "data": {
            "text/plain": [
              "                                                   value_counts\n",
              "hotel        arrival_date_year reservation_status              \n",
              "City Hotel   2015              Check-Out                   7678\n",
              "                               Canceled                    5882\n",
              "                               No-Show                      122\n",
              "             2016              Check-Out                  22733\n",
              "                               Canceled                   14852\n",
              "                               No-Show                      555\n",
              "             2017              Check-Out                  15817\n",
              "                               Canceled                   11452\n",
              "                               No-Show                      239\n",
              "Resort Hotel 2015              Check-Out                   6176\n",
              "                               Canceled                    2069\n",
              "                               No-Show                       69\n",
              "             2016              Check-Out                  13637\n",
              "                               Canceled                    4817\n",
              "                               No-Show                      113\n",
              "             2017              Check-Out                   9125\n",
              "                               Canceled                    3945\n",
              "                               No-Show                      109"
            ],
            "text/html": [
              "\n",
              "  <div id=\"df-bf258c79-e6d3-4891-8c10-65974af614f2\">\n",
              "    <div class=\"colab-df-container\">\n",
              "      <div>\n",
              "<style scoped>\n",
              "    .dataframe tbody tr th:only-of-type {\n",
              "        vertical-align: middle;\n",
              "    }\n",
              "\n",
              "    .dataframe tbody tr th {\n",
              "        vertical-align: top;\n",
              "    }\n",
              "\n",
              "    .dataframe thead th {\n",
              "        text-align: right;\n",
              "    }\n",
              "</style>\n",
              "<table border=\"1\" class=\"dataframe\">\n",
              "  <thead>\n",
              "    <tr style=\"text-align: right;\">\n",
              "      <th></th>\n",
              "      <th></th>\n",
              "      <th></th>\n",
              "      <th>value_counts</th>\n",
              "    </tr>\n",
              "    <tr>\n",
              "      <th>hotel</th>\n",
              "      <th>arrival_date_year</th>\n",
              "      <th>reservation_status</th>\n",
              "      <th></th>\n",
              "    </tr>\n",
              "  </thead>\n",
              "  <tbody>\n",
              "    <tr>\n",
              "      <th rowspan=\"9\" valign=\"top\">City Hotel</th>\n",
              "      <th rowspan=\"3\" valign=\"top\">2015</th>\n",
              "      <th>Check-Out</th>\n",
              "      <td>7678</td>\n",
              "    </tr>\n",
              "    <tr>\n",
              "      <th>Canceled</th>\n",
              "      <td>5882</td>\n",
              "    </tr>\n",
              "    <tr>\n",
              "      <th>No-Show</th>\n",
              "      <td>122</td>\n",
              "    </tr>\n",
              "    <tr>\n",
              "      <th rowspan=\"3\" valign=\"top\">2016</th>\n",
              "      <th>Check-Out</th>\n",
              "      <td>22733</td>\n",
              "    </tr>\n",
              "    <tr>\n",
              "      <th>Canceled</th>\n",
              "      <td>14852</td>\n",
              "    </tr>\n",
              "    <tr>\n",
              "      <th>No-Show</th>\n",
              "      <td>555</td>\n",
              "    </tr>\n",
              "    <tr>\n",
              "      <th rowspan=\"3\" valign=\"top\">2017</th>\n",
              "      <th>Check-Out</th>\n",
              "      <td>15817</td>\n",
              "    </tr>\n",
              "    <tr>\n",
              "      <th>Canceled</th>\n",
              "      <td>11452</td>\n",
              "    </tr>\n",
              "    <tr>\n",
              "      <th>No-Show</th>\n",
              "      <td>239</td>\n",
              "    </tr>\n",
              "    <tr>\n",
              "      <th rowspan=\"9\" valign=\"top\">Resort Hotel</th>\n",
              "      <th rowspan=\"3\" valign=\"top\">2015</th>\n",
              "      <th>Check-Out</th>\n",
              "      <td>6176</td>\n",
              "    </tr>\n",
              "    <tr>\n",
              "      <th>Canceled</th>\n",
              "      <td>2069</td>\n",
              "    </tr>\n",
              "    <tr>\n",
              "      <th>No-Show</th>\n",
              "      <td>69</td>\n",
              "    </tr>\n",
              "    <tr>\n",
              "      <th rowspan=\"3\" valign=\"top\">2016</th>\n",
              "      <th>Check-Out</th>\n",
              "      <td>13637</td>\n",
              "    </tr>\n",
              "    <tr>\n",
              "      <th>Canceled</th>\n",
              "      <td>4817</td>\n",
              "    </tr>\n",
              "    <tr>\n",
              "      <th>No-Show</th>\n",
              "      <td>113</td>\n",
              "    </tr>\n",
              "    <tr>\n",
              "      <th rowspan=\"3\" valign=\"top\">2017</th>\n",
              "      <th>Check-Out</th>\n",
              "      <td>9125</td>\n",
              "    </tr>\n",
              "    <tr>\n",
              "      <th>Canceled</th>\n",
              "      <td>3945</td>\n",
              "    </tr>\n",
              "    <tr>\n",
              "      <th>No-Show</th>\n",
              "      <td>109</td>\n",
              "    </tr>\n",
              "  </tbody>\n",
              "</table>\n",
              "</div>\n",
              "      <button class=\"colab-df-convert\" onclick=\"convertToInteractive('df-bf258c79-e6d3-4891-8c10-65974af614f2')\"\n",
              "              title=\"Convert this dataframe to an interactive table.\"\n",
              "              style=\"display:none;\">\n",
              "        \n",
              "  <svg xmlns=\"http://www.w3.org/2000/svg\" height=\"24px\"viewBox=\"0 0 24 24\"\n",
              "       width=\"24px\">\n",
              "    <path d=\"M0 0h24v24H0V0z\" fill=\"none\"/>\n",
              "    <path d=\"M18.56 5.44l.94 2.06.94-2.06 2.06-.94-2.06-.94-.94-2.06-.94 2.06-2.06.94zm-11 1L8.5 8.5l.94-2.06 2.06-.94-2.06-.94L8.5 2.5l-.94 2.06-2.06.94zm10 10l.94 2.06.94-2.06 2.06-.94-2.06-.94-.94-2.06-.94 2.06-2.06.94z\"/><path d=\"M17.41 7.96l-1.37-1.37c-.4-.4-.92-.59-1.43-.59-.52 0-1.04.2-1.43.59L10.3 9.45l-7.72 7.72c-.78.78-.78 2.05 0 2.83L4 21.41c.39.39.9.59 1.41.59.51 0 1.02-.2 1.41-.59l7.78-7.78 2.81-2.81c.8-.78.8-2.07 0-2.86zM5.41 20L4 18.59l7.72-7.72 1.47 1.35L5.41 20z\"/>\n",
              "  </svg>\n",
              "      </button>\n",
              "      \n",
              "  <style>\n",
              "    .colab-df-container {\n",
              "      display:flex;\n",
              "      flex-wrap:wrap;\n",
              "      gap: 12px;\n",
              "    }\n",
              "\n",
              "    .colab-df-convert {\n",
              "      background-color: #E8F0FE;\n",
              "      border: none;\n",
              "      border-radius: 50%;\n",
              "      cursor: pointer;\n",
              "      display: none;\n",
              "      fill: #1967D2;\n",
              "      height: 32px;\n",
              "      padding: 0 0 0 0;\n",
              "      width: 32px;\n",
              "    }\n",
              "\n",
              "    .colab-df-convert:hover {\n",
              "      background-color: #E2EBFA;\n",
              "      box-shadow: 0px 1px 2px rgba(60, 64, 67, 0.3), 0px 1px 3px 1px rgba(60, 64, 67, 0.15);\n",
              "      fill: #174EA6;\n",
              "    }\n",
              "\n",
              "    [theme=dark] .colab-df-convert {\n",
              "      background-color: #3B4455;\n",
              "      fill: #D2E3FC;\n",
              "    }\n",
              "\n",
              "    [theme=dark] .colab-df-convert:hover {\n",
              "      background-color: #434B5C;\n",
              "      box-shadow: 0px 1px 3px 1px rgba(0, 0, 0, 0.15);\n",
              "      filter: drop-shadow(0px 1px 2px rgba(0, 0, 0, 0.3));\n",
              "      fill: #FFFFFF;\n",
              "    }\n",
              "  </style>\n",
              "\n",
              "      <script>\n",
              "        const buttonEl =\n",
              "          document.querySelector('#df-bf258c79-e6d3-4891-8c10-65974af614f2 button.colab-df-convert');\n",
              "        buttonEl.style.display =\n",
              "          google.colab.kernel.accessAllowed ? 'block' : 'none';\n",
              "\n",
              "        async function convertToInteractive(key) {\n",
              "          const element = document.querySelector('#df-bf258c79-e6d3-4891-8c10-65974af614f2');\n",
              "          const dataTable =\n",
              "            await google.colab.kernel.invokeFunction('convertToInteractive',\n",
              "                                                     [key], {});\n",
              "          if (!dataTable) return;\n",
              "\n",
              "          const docLinkHtml = 'Like what you see? Visit the ' +\n",
              "            '<a target=\"_blank\" href=https://colab.research.google.com/notebooks/data_table.ipynb>data table notebook</a>'\n",
              "            + ' to learn more about interactive tables.';\n",
              "          element.innerHTML = '';\n",
              "          dataTable['output_type'] = 'display_data';\n",
              "          await google.colab.output.renderOutput(dataTable, element);\n",
              "          const docLink = document.createElement('div');\n",
              "          docLink.innerHTML = docLinkHtml;\n",
              "          element.appendChild(docLink);\n",
              "        }\n",
              "      </script>\n",
              "    </div>\n",
              "  </div>\n",
              "  "
            ]
          },
          "metadata": {},
          "execution_count": 267
        }
      ]
    },
    {
      "cell_type": "markdown",
      "source": [
        "## Identify customer groups and their characteristics. Explain your approach to the owner."
      ],
      "metadata": {
        "id": "VdiYwcFAyvhq"
      }
    },
    {
      "cell_type": "markdown",
      "source": [
        "Transient: are the individual that book the hotel room for the same day \n",
        "\n",
        "Transient- party: are the group of people that book multiple hotel rooms \n",
        "\n",
        "Contract: an individual who books the hotel before his/her arrival with the signed contract\n",
        "\n",
        "Group: a group who books the hotel rooms before the arrival(mostly they look for a resort)\n",
        "\n",
        "From the tables below we can see that the Transient are among the highest customer group that make the booking as well as cancels the booking. As it can be justified because they make the booking on the same day so they probably call 4-5 hotel and then choose the one who is cheapest and offer a good deal.\n",
        "\n",
        "My approach to avoid cancellation from the Transient would be to offer a discount if the hotel has a vacant room. Also, make sure to book the hotel for transients on a per night basis charges.\n",
        "\n",
        "And use my model"
      ],
      "metadata": {
        "id": "YNrXOoBuRN-n"
      }
    },
    {
      "cell_type": "code",
      "source": [
        "df[\"customer_type\"][df[\"is_canceled\"] == 1].agg([\"value_counts\"])\n"
      ],
      "metadata": {
        "colab": {
          "base_uri": "https://localhost:8080/",
          "height": 175
        },
        "id": "QnusbEkqxfGo",
        "outputId": "0559679f-55d4-4f7c-c644-799b40531581"
      },
      "execution_count": 268,
      "outputs": [
        {
          "output_type": "execute_result",
          "data": {
            "text/plain": [
              "                 value_counts\n",
              "Transient               36514\n",
              "Transient-Party          6389\n",
              "Contract                 1262\n",
              "Group                      59"
            ],
            "text/html": [
              "\n",
              "  <div id=\"df-f9ec8f55-1204-4ed8-9b2a-b52f0a8426dc\">\n",
              "    <div class=\"colab-df-container\">\n",
              "      <div>\n",
              "<style scoped>\n",
              "    .dataframe tbody tr th:only-of-type {\n",
              "        vertical-align: middle;\n",
              "    }\n",
              "\n",
              "    .dataframe tbody tr th {\n",
              "        vertical-align: top;\n",
              "    }\n",
              "\n",
              "    .dataframe thead th {\n",
              "        text-align: right;\n",
              "    }\n",
              "</style>\n",
              "<table border=\"1\" class=\"dataframe\">\n",
              "  <thead>\n",
              "    <tr style=\"text-align: right;\">\n",
              "      <th></th>\n",
              "      <th>value_counts</th>\n",
              "    </tr>\n",
              "  </thead>\n",
              "  <tbody>\n",
              "    <tr>\n",
              "      <th>Transient</th>\n",
              "      <td>36514</td>\n",
              "    </tr>\n",
              "    <tr>\n",
              "      <th>Transient-Party</th>\n",
              "      <td>6389</td>\n",
              "    </tr>\n",
              "    <tr>\n",
              "      <th>Contract</th>\n",
              "      <td>1262</td>\n",
              "    </tr>\n",
              "    <tr>\n",
              "      <th>Group</th>\n",
              "      <td>59</td>\n",
              "    </tr>\n",
              "  </tbody>\n",
              "</table>\n",
              "</div>\n",
              "      <button class=\"colab-df-convert\" onclick=\"convertToInteractive('df-f9ec8f55-1204-4ed8-9b2a-b52f0a8426dc')\"\n",
              "              title=\"Convert this dataframe to an interactive table.\"\n",
              "              style=\"display:none;\">\n",
              "        \n",
              "  <svg xmlns=\"http://www.w3.org/2000/svg\" height=\"24px\"viewBox=\"0 0 24 24\"\n",
              "       width=\"24px\">\n",
              "    <path d=\"M0 0h24v24H0V0z\" fill=\"none\"/>\n",
              "    <path d=\"M18.56 5.44l.94 2.06.94-2.06 2.06-.94-2.06-.94-.94-2.06-.94 2.06-2.06.94zm-11 1L8.5 8.5l.94-2.06 2.06-.94-2.06-.94L8.5 2.5l-.94 2.06-2.06.94zm10 10l.94 2.06.94-2.06 2.06-.94-2.06-.94-.94-2.06-.94 2.06-2.06.94z\"/><path d=\"M17.41 7.96l-1.37-1.37c-.4-.4-.92-.59-1.43-.59-.52 0-1.04.2-1.43.59L10.3 9.45l-7.72 7.72c-.78.78-.78 2.05 0 2.83L4 21.41c.39.39.9.59 1.41.59.51 0 1.02-.2 1.41-.59l7.78-7.78 2.81-2.81c.8-.78.8-2.07 0-2.86zM5.41 20L4 18.59l7.72-7.72 1.47 1.35L5.41 20z\"/>\n",
              "  </svg>\n",
              "      </button>\n",
              "      \n",
              "  <style>\n",
              "    .colab-df-container {\n",
              "      display:flex;\n",
              "      flex-wrap:wrap;\n",
              "      gap: 12px;\n",
              "    }\n",
              "\n",
              "    .colab-df-convert {\n",
              "      background-color: #E8F0FE;\n",
              "      border: none;\n",
              "      border-radius: 50%;\n",
              "      cursor: pointer;\n",
              "      display: none;\n",
              "      fill: #1967D2;\n",
              "      height: 32px;\n",
              "      padding: 0 0 0 0;\n",
              "      width: 32px;\n",
              "    }\n",
              "\n",
              "    .colab-df-convert:hover {\n",
              "      background-color: #E2EBFA;\n",
              "      box-shadow: 0px 1px 2px rgba(60, 64, 67, 0.3), 0px 1px 3px 1px rgba(60, 64, 67, 0.15);\n",
              "      fill: #174EA6;\n",
              "    }\n",
              "\n",
              "    [theme=dark] .colab-df-convert {\n",
              "      background-color: #3B4455;\n",
              "      fill: #D2E3FC;\n",
              "    }\n",
              "\n",
              "    [theme=dark] .colab-df-convert:hover {\n",
              "      background-color: #434B5C;\n",
              "      box-shadow: 0px 1px 3px 1px rgba(0, 0, 0, 0.15);\n",
              "      filter: drop-shadow(0px 1px 2px rgba(0, 0, 0, 0.3));\n",
              "      fill: #FFFFFF;\n",
              "    }\n",
              "  </style>\n",
              "\n",
              "      <script>\n",
              "        const buttonEl =\n",
              "          document.querySelector('#df-f9ec8f55-1204-4ed8-9b2a-b52f0a8426dc button.colab-df-convert');\n",
              "        buttonEl.style.display =\n",
              "          google.colab.kernel.accessAllowed ? 'block' : 'none';\n",
              "\n",
              "        async function convertToInteractive(key) {\n",
              "          const element = document.querySelector('#df-f9ec8f55-1204-4ed8-9b2a-b52f0a8426dc');\n",
              "          const dataTable =\n",
              "            await google.colab.kernel.invokeFunction('convertToInteractive',\n",
              "                                                     [key], {});\n",
              "          if (!dataTable) return;\n",
              "\n",
              "          const docLinkHtml = 'Like what you see? Visit the ' +\n",
              "            '<a target=\"_blank\" href=https://colab.research.google.com/notebooks/data_table.ipynb>data table notebook</a>'\n",
              "            + ' to learn more about interactive tables.';\n",
              "          element.innerHTML = '';\n",
              "          dataTable['output_type'] = 'display_data';\n",
              "          await google.colab.output.renderOutput(dataTable, element);\n",
              "          const docLink = document.createElement('div');\n",
              "          docLink.innerHTML = docLinkHtml;\n",
              "          element.appendChild(docLink);\n",
              "        }\n",
              "      </script>\n",
              "    </div>\n",
              "  </div>\n",
              "  "
            ]
          },
          "metadata": {},
          "execution_count": 268
        }
      ]
    },
    {
      "cell_type": "code",
      "source": [
        "df[\"customer_type\"][df[\"is_canceled\"] == 0].agg([\"value_counts\"])"
      ],
      "metadata": {
        "colab": {
          "base_uri": "https://localhost:8080/",
          "height": 175
        },
        "id": "VXF21LlnyLTP",
        "outputId": "06ac69a8-0275-48eb-e1e9-eebce7da5fa8"
      },
      "execution_count": 269,
      "outputs": [
        {
          "output_type": "execute_result",
          "data": {
            "text/plain": [
              "                 value_counts\n",
              "Transient               53099\n",
              "Transient-Party         18735\n",
              "Contract                 2814\n",
              "Group                     518"
            ],
            "text/html": [
              "\n",
              "  <div id=\"df-a712cdda-d3bb-467e-9c82-addcbc09e81a\">\n",
              "    <div class=\"colab-df-container\">\n",
              "      <div>\n",
              "<style scoped>\n",
              "    .dataframe tbody tr th:only-of-type {\n",
              "        vertical-align: middle;\n",
              "    }\n",
              "\n",
              "    .dataframe tbody tr th {\n",
              "        vertical-align: top;\n",
              "    }\n",
              "\n",
              "    .dataframe thead th {\n",
              "        text-align: right;\n",
              "    }\n",
              "</style>\n",
              "<table border=\"1\" class=\"dataframe\">\n",
              "  <thead>\n",
              "    <tr style=\"text-align: right;\">\n",
              "      <th></th>\n",
              "      <th>value_counts</th>\n",
              "    </tr>\n",
              "  </thead>\n",
              "  <tbody>\n",
              "    <tr>\n",
              "      <th>Transient</th>\n",
              "      <td>53099</td>\n",
              "    </tr>\n",
              "    <tr>\n",
              "      <th>Transient-Party</th>\n",
              "      <td>18735</td>\n",
              "    </tr>\n",
              "    <tr>\n",
              "      <th>Contract</th>\n",
              "      <td>2814</td>\n",
              "    </tr>\n",
              "    <tr>\n",
              "      <th>Group</th>\n",
              "      <td>518</td>\n",
              "    </tr>\n",
              "  </tbody>\n",
              "</table>\n",
              "</div>\n",
              "      <button class=\"colab-df-convert\" onclick=\"convertToInteractive('df-a712cdda-d3bb-467e-9c82-addcbc09e81a')\"\n",
              "              title=\"Convert this dataframe to an interactive table.\"\n",
              "              style=\"display:none;\">\n",
              "        \n",
              "  <svg xmlns=\"http://www.w3.org/2000/svg\" height=\"24px\"viewBox=\"0 0 24 24\"\n",
              "       width=\"24px\">\n",
              "    <path d=\"M0 0h24v24H0V0z\" fill=\"none\"/>\n",
              "    <path d=\"M18.56 5.44l.94 2.06.94-2.06 2.06-.94-2.06-.94-.94-2.06-.94 2.06-2.06.94zm-11 1L8.5 8.5l.94-2.06 2.06-.94-2.06-.94L8.5 2.5l-.94 2.06-2.06.94zm10 10l.94 2.06.94-2.06 2.06-.94-2.06-.94-.94-2.06-.94 2.06-2.06.94z\"/><path d=\"M17.41 7.96l-1.37-1.37c-.4-.4-.92-.59-1.43-.59-.52 0-1.04.2-1.43.59L10.3 9.45l-7.72 7.72c-.78.78-.78 2.05 0 2.83L4 21.41c.39.39.9.59 1.41.59.51 0 1.02-.2 1.41-.59l7.78-7.78 2.81-2.81c.8-.78.8-2.07 0-2.86zM5.41 20L4 18.59l7.72-7.72 1.47 1.35L5.41 20z\"/>\n",
              "  </svg>\n",
              "      </button>\n",
              "      \n",
              "  <style>\n",
              "    .colab-df-container {\n",
              "      display:flex;\n",
              "      flex-wrap:wrap;\n",
              "      gap: 12px;\n",
              "    }\n",
              "\n",
              "    .colab-df-convert {\n",
              "      background-color: #E8F0FE;\n",
              "      border: none;\n",
              "      border-radius: 50%;\n",
              "      cursor: pointer;\n",
              "      display: none;\n",
              "      fill: #1967D2;\n",
              "      height: 32px;\n",
              "      padding: 0 0 0 0;\n",
              "      width: 32px;\n",
              "    }\n",
              "\n",
              "    .colab-df-convert:hover {\n",
              "      background-color: #E2EBFA;\n",
              "      box-shadow: 0px 1px 2px rgba(60, 64, 67, 0.3), 0px 1px 3px 1px rgba(60, 64, 67, 0.15);\n",
              "      fill: #174EA6;\n",
              "    }\n",
              "\n",
              "    [theme=dark] .colab-df-convert {\n",
              "      background-color: #3B4455;\n",
              "      fill: #D2E3FC;\n",
              "    }\n",
              "\n",
              "    [theme=dark] .colab-df-convert:hover {\n",
              "      background-color: #434B5C;\n",
              "      box-shadow: 0px 1px 3px 1px rgba(0, 0, 0, 0.15);\n",
              "      filter: drop-shadow(0px 1px 2px rgba(0, 0, 0, 0.3));\n",
              "      fill: #FFFFFF;\n",
              "    }\n",
              "  </style>\n",
              "\n",
              "      <script>\n",
              "        const buttonEl =\n",
              "          document.querySelector('#df-a712cdda-d3bb-467e-9c82-addcbc09e81a button.colab-df-convert');\n",
              "        buttonEl.style.display =\n",
              "          google.colab.kernel.accessAllowed ? 'block' : 'none';\n",
              "\n",
              "        async function convertToInteractive(key) {\n",
              "          const element = document.querySelector('#df-a712cdda-d3bb-467e-9c82-addcbc09e81a');\n",
              "          const dataTable =\n",
              "            await google.colab.kernel.invokeFunction('convertToInteractive',\n",
              "                                                     [key], {});\n",
              "          if (!dataTable) return;\n",
              "\n",
              "          const docLinkHtml = 'Like what you see? Visit the ' +\n",
              "            '<a target=\"_blank\" href=https://colab.research.google.com/notebooks/data_table.ipynb>data table notebook</a>'\n",
              "            + ' to learn more about interactive tables.';\n",
              "          element.innerHTML = '';\n",
              "          dataTable['output_type'] = 'display_data';\n",
              "          await google.colab.output.renderOutput(dataTable, element);\n",
              "          const docLink = document.createElement('div');\n",
              "          docLink.innerHTML = docLinkHtml;\n",
              "          element.appendChild(docLink);\n",
              "        }\n",
              "      </script>\n",
              "    </div>\n",
              "  </div>\n",
              "  "
            ]
          },
          "metadata": {},
          "execution_count": 269
        }
      ]
    },
    {
      "cell_type": "markdown",
      "source": [
        "## Characterize the most frequent cases of cancellation. Which properties do they share?"
      ],
      "metadata": {
        "id": "yY7z1sY_fTk0"
      }
    },
    {
      "cell_type": "markdown",
      "source": [
        "The cases of cancellation include:\n",
        "\n",
        "1. Early booking\n",
        "\n",
        "2. When a large group books a hotel via offline mode\n",
        "\n",
        "3. Booking during high season\n",
        "\n",
        "4. When guests don't have children to accompany\n",
        "\n",
        "The property there share in general is the vacation season"
      ],
      "metadata": {
        "id": "wU6BGK8qfXMf"
      }
    },
    {
      "cell_type": "markdown",
      "source": [
        "## Based on reservation characteristics, make suggestions to the owner about pricing. Detect the cases when prices should be lowered or increased."
      ],
      "metadata": {
        "id": "XLaV7ruG5xME"
      }
    },
    {
      "cell_type": "markdown",
      "source": [
        "It is not mentioned why the customer who books room type 'P' has the highest chance of cancelling it. But as you can see from the below table it's kinda clear the doubt as room type 'P' is also amongst the least booked room. Therefore according to me maybe room P is costly which is why the customer cancelled the room when s(he) finds a cheap room in some other hotel.\n",
        "\n",
        "I would suggest the owner to reduce the price of room P during the offseason when  there is no vacation and  increase the price when its the vacation month.\n",
        "\n",
        "And also use my model to avoid cancellation\n",
        "\n"
      ],
      "metadata": {
        "id": "avLqV1fPMVBB"
      }
    },
    {
      "cell_type": "code",
      "source": [
        "from numpy import mean\n",
        "plt.figure(figsize = (15,8))\n",
        "ax = sns.barplot(x=\"reserved_room_type\", y = \"is_canceled\", data=df, estimator=mean)"
      ],
      "metadata": {
        "colab": {
          "base_uri": "https://localhost:8080/",
          "height": 489
        },
        "id": "pYAT9tj-KAI2",
        "outputId": "5a98ed47-b6f8-46fb-d886-2b60c51db023"
      },
      "execution_count": 270,
      "outputs": [
        {
          "output_type": "display_data",
          "data": {
            "text/plain": [
              "<Figure size 1080x576 with 1 Axes>"
            ],
            "image/png": "[encoded data removed]"
          },
          "metadata": {}
        }
      ]
    },
    {
      "cell_type": "code",
      "source": [
        "df[df[\"reserved_room_type\"] == df[\"assigned_room_type\"]][[\"reserved_room_type\", \"assigned_room_type\"]].agg([\"value_counts\"])"
      ],
      "metadata": {
        "colab": {
          "base_uri": "https://localhost:8080/",
          "height": 394
        },
        "id": "FQYyJjLCya3D",
        "outputId": "966c5f8a-3b64-4342-fefe-ea60b0a3a8fe"
      },
      "execution_count": 271,
      "outputs": [
        {
          "output_type": "execute_result",
          "data": {
            "text/plain": [
              "  reserved_room_type assigned_room_type\n",
              "        value_counts       value_counts\n",
              "A              73598              73598\n",
              "D              17736              17736\n",
              "E               5923               5923\n",
              "F               2707               2707\n",
              "G               2041               2041\n",
              "B                988                988\n",
              "C                883                883\n",
              "H                584                584\n",
              "P                 12                 12\n",
              "L                  1                  1"
            ],
            "text/html": [
              "\n",
              "  <div id=\"df-b073ddb6-4190-44e4-8f1f-ac5199919772\">\n",
              "    <div class=\"colab-df-container\">\n",
              "      <div>\n",
              "<style scoped>\n",
              "    .dataframe tbody tr th:only-of-type {\n",
              "        vertical-align: middle;\n",
              "    }\n",
              "\n",
              "    .dataframe tbody tr th {\n",
              "        vertical-align: top;\n",
              "    }\n",
              "\n",
              "    .dataframe thead tr th {\n",
              "        text-align: left;\n",
              "    }\n",
              "</style>\n",
              "<table border=\"1\" class=\"dataframe\">\n",
              "  <thead>\n",
              "    <tr>\n",
              "      <th></th>\n",
              "      <th>reserved_room_type</th>\n",
              "      <th>assigned_room_type</th>\n",
              "    </tr>\n",
              "    <tr>\n",
              "      <th></th>\n",
              "      <th>value_counts</th>\n",
              "      <th>value_counts</th>\n",
              "    </tr>\n",
              "  </thead>\n",
              "  <tbody>\n",
              "    <tr>\n",
              "      <th>A</th>\n",
              "      <td>73598</td>\n",
              "      <td>73598</td>\n",
              "    </tr>\n",
              "    <tr>\n",
              "      <th>D</th>\n",
              "      <td>17736</td>\n",
              "      <td>17736</td>\n",
              "    </tr>\n",
              "    <tr>\n",
              "      <th>E</th>\n",
              "      <td>5923</td>\n",
              "      <td>5923</td>\n",
              "    </tr>\n",
              "    <tr>\n",
              "      <th>F</th>\n",
              "      <td>2707</td>\n",
              "      <td>2707</td>\n",
              "    </tr>\n",
              "    <tr>\n",
              "      <th>G</th>\n",
              "      <td>2041</td>\n",
              "      <td>2041</td>\n",
              "    </tr>\n",
              "    <tr>\n",
              "      <th>B</th>\n",
              "      <td>988</td>\n",
              "      <td>988</td>\n",
              "    </tr>\n",
              "    <tr>\n",
              "      <th>C</th>\n",
              "      <td>883</td>\n",
              "      <td>883</td>\n",
              "    </tr>\n",
              "    <tr>\n",
              "      <th>H</th>\n",
              "      <td>584</td>\n",
              "      <td>584</td>\n",
              "    </tr>\n",
              "    <tr>\n",
              "      <th>P</th>\n",
              "      <td>12</td>\n",
              "      <td>12</td>\n",
              "    </tr>\n",
              "    <tr>\n",
              "      <th>L</th>\n",
              "      <td>1</td>\n",
              "      <td>1</td>\n",
              "    </tr>\n",
              "  </tbody>\n",
              "</table>\n",
              "</div>\n",
              "      <button class=\"colab-df-convert\" onclick=\"convertToInteractive('df-b073ddb6-4190-44e4-8f1f-ac5199919772')\"\n",
              "              title=\"Convert this dataframe to an interactive table.\"\n",
              "              style=\"display:none;\">\n",
              "        \n",
              "  <svg xmlns=\"http://www.w3.org/2000/svg\" height=\"24px\"viewBox=\"0 0 24 24\"\n",
              "       width=\"24px\">\n",
              "    <path d=\"M0 0h24v24H0V0z\" fill=\"none\"/>\n",
              "    <path d=\"M18.56 5.44l.94 2.06.94-2.06 2.06-.94-2.06-.94-.94-2.06-.94 2.06-2.06.94zm-11 1L8.5 8.5l.94-2.06 2.06-.94-2.06-.94L8.5 2.5l-.94 2.06-2.06.94zm10 10l.94 2.06.94-2.06 2.06-.94-2.06-.94-.94-2.06-.94 2.06-2.06.94z\"/><path d=\"M17.41 7.96l-1.37-1.37c-.4-.4-.92-.59-1.43-.59-.52 0-1.04.2-1.43.59L10.3 9.45l-7.72 7.72c-.78.78-.78 2.05 0 2.83L4 21.41c.39.39.9.59 1.41.59.51 0 1.02-.2 1.41-.59l7.78-7.78 2.81-2.81c.8-.78.8-2.07 0-2.86zM5.41 20L4 18.59l7.72-7.72 1.47 1.35L5.41 20z\"/>\n",
              "  </svg>\n",
              "      </button>\n",
              "      \n",
              "  <style>\n",
              "    .colab-df-container {\n",
              "      display:flex;\n",
              "      flex-wrap:wrap;\n",
              "      gap: 12px;\n",
              "    }\n",
              "\n",
              "    .colab-df-convert {\n",
              "      background-color: #E8F0FE;\n",
              "      border: none;\n",
              "      border-radius: 50%;\n",
              "      cursor: pointer;\n",
              "      display: none;\n",
              "      fill: #1967D2;\n",
              "      height: 32px;\n",
              "      padding: 0 0 0 0;\n",
              "      width: 32px;\n",
              "    }\n",
              "\n",
              "    .colab-df-convert:hover {\n",
              "      background-color: #E2EBFA;\n",
              "      box-shadow: 0px 1px 2px rgba(60, 64, 67, 0.3), 0px 1px 3px 1px rgba(60, 64, 67, 0.15);\n",
              "      fill: #174EA6;\n",
              "    }\n",
              "\n",
              "    [theme=dark] .colab-df-convert {\n",
              "      background-color: #3B4455;\n",
              "      fill: #D2E3FC;\n",
              "    }\n",
              "\n",
              "    [theme=dark] .colab-df-convert:hover {\n",
              "      background-color: #434B5C;\n",
              "      box-shadow: 0px 1px 3px 1px rgba(0, 0, 0, 0.15);\n",
              "      filter: drop-shadow(0px 1px 2px rgba(0, 0, 0, 0.3));\n",
              "      fill: #FFFFFF;\n",
              "    }\n",
              "  </style>\n",
              "\n",
              "      <script>\n",
              "        const buttonEl =\n",
              "          document.querySelector('#df-b073ddb6-4190-44e4-8f1f-ac5199919772 button.colab-df-convert');\n",
              "        buttonEl.style.display =\n",
              "          google.colab.kernel.accessAllowed ? 'block' : 'none';\n",
              "\n",
              "        async function convertToInteractive(key) {\n",
              "          const element = document.querySelector('#df-b073ddb6-4190-44e4-8f1f-ac5199919772');\n",
              "          const dataTable =\n",
              "            await google.colab.kernel.invokeFunction('convertToInteractive',\n",
              "                                                     [key], {});\n",
              "          if (!dataTable) return;\n",
              "\n",
              "          const docLinkHtml = 'Like what you see? Visit the ' +\n",
              "            '<a target=\"_blank\" href=https://colab.research.google.com/notebooks/data_table.ipynb>data table notebook</a>'\n",
              "            + ' to learn more about interactive tables.';\n",
              "          element.innerHTML = '';\n",
              "          dataTable['output_type'] = 'display_data';\n",
              "          await google.colab.output.renderOutput(dataTable, element);\n",
              "          const docLink = document.createElement('div');\n",
              "          docLink.innerHTML = docLinkHtml;\n",
              "          element.appendChild(docLink);\n",
              "        }\n",
              "      </script>\n",
              "    </div>\n",
              "  </div>\n",
              "  "
            ]
          },
          "metadata": {},
          "execution_count": 271
        }
      ]
    },
    {
      "cell_type": "markdown",
      "source": [
        "## What insights could you give to the hotel owner? How well are her hotels doing and is the business going up?"
      ],
      "metadata": {
        "id": "FI4G4gaA_SaP"
      }
    },
    {
      "cell_type": "markdown",
      "source": [
        "The city hotel booking peaks from May till June and October till September. While resort hotel remains consistent throughout the year.\n",
        "Guests with kids have their booking during the summer break which is from July till August.\n",
        "\n",
        "Hotel performance fluctuates as we can see from 2015 to 2017. 2016 was good and then 2017 performance went down.\n",
        "I would suggest hotel owner use my Decision tree classifier or Random forest classifier model to early predict the cancellation and make the arrangements with the customer either by calling them or giving them a discount"
      ],
      "metadata": {
        "id": "nG69CIy1u2Z0"
      }
    },
    {
      "cell_type": "code",
      "source": [
        "#Thank you!"
      ],
      "metadata": {
        "id": "cGiUNDms593C"
      },
      "execution_count": 274,
      "outputs": []
    }
  ]
}